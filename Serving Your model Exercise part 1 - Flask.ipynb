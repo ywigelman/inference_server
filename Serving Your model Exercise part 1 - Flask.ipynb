{
 "cells": [
  {
   "cell_type": "markdown",
   "metadata": {},
   "source": [
    "# Serving your model exercise. Part 1 - Flask"
   ]
  },
  {
   "cell_type": "markdown",
   "metadata": {},
   "source": [
    "## Intro\n",
    "Reminder, there will usually be 3 different places where the code relevant to our model prediction runs:\n",
    "1. **Training computer / server** - where we train our model and save it\n",
    "2. **Inference server** - server that listens to REST API requests to make predictions / inferences with the model that was trained on the model server. Potentially, we could have many such servers. \n",
    "3. **Client** - client application (browser, mobile app etc.) that needs a prediction, and requests from **inference server** over HTTP with REST API to make the prediction\n",
    "\n",
    "There are 2 directions for **sending data**:\n",
    "1. Data sent via a REST API from the **client** to the **Inference server**\n",
    "1. Prediction result that's sent from the **Inference server** back to the **client**\n",
    "\n",
    "There are 2 ways to send the data from **client** to the **Inference server**:\n",
    "1. As parameters of the URL\n",
    "1. As a body of the HTTP request\n",
    "\n",
    "Prediction that's returned from the **Inference server** to the **client** will always be in the body of the HTTP (limitation of the HTTP protocol).  However, it could be in different formats - regular string, HTML page, or a JSON file.\n",
    "\n",
    "In this exercise we will learn about 2 combinations of the above:\n",
    "1. Sending data as **parameters of the request** (as part of the URL) and receiving data as a **regular string** - useful for small and short data as inputs to the model, and when the prediction is short / simple.  We will use it to implement a **single prediction API**.\n",
    "1. Sending data in the HTTP body as a **JSON file**, and getting back the prediction as a **JSON file** - more relevant for when the data has many features / complicated features, and when the prediction response is itself slightly longer / more complicated.  We will use it to implement **multiple predictions API**\n",
    "\n",
    "Of course, there is no connection between the format of data sent to the server, and received back from the server, so you could have other variations."
   ]
  },
  {
   "cell_type": "markdown",
   "metadata": {},
   "source": [
    "## 1. Getting to a trained model\n",
    "- Choose one of the models you trained in one the previous exercises or any other model. **Do not take something from many Flask examples online!**  **For easy debugging** - It's better to use a model with a small number of features and where the feature values are not long arrays (you can also take a small subsete of features of existing model).\n",
    "- Specify where can one download the dataset from (to be used during checking the exercise)\n",
    "- Say in one word what is the business problem and what you are predicting \n",
    "- Preprocess, split to train and test dataset\n",
    "- Train the model - how well your models predicts (accuracy / $R^2$) is not of big importance here\n",
    "- Do a few predictions of the model locally\n",
    "\n",
    "This code will run on the **training server**"
   ]
  },
  {
   "cell_type": "markdown",
   "metadata": {},
   "source": [
    "**import packages and modules**"
   ]
  },
  {
   "cell_type": "code",
   "execution_count": 1,
   "metadata": {
    "ExecuteTime": {
     "end_time": "2020-12-24T18:38:53.852474Z",
     "start_time": "2020-12-24T18:38:53.277000Z"
    }
   },
   "outputs": [],
   "source": [
    "from sklearn.datasets import load_boston\n",
    "from sklearn.ensemble import RandomForestRegressor\n",
    "from sklearn.model_selection import train_test_split\n",
    "from sklearn.metrics import r2_score, mean_squared_error\n",
    "import numpy as np\n",
    "import pickle\n",
    "import json\n",
    "from flask import Flask, request\n",
    "import pandas as pd \n",
    "import requests"
   ]
  },
  {
   "cell_type": "markdown",
   "metadata": {},
   "source": [
    "**some constants**"
   ]
  },
  {
   "cell_type": "code",
   "execution_count": 2,
   "metadata": {
    "ExecuteTime": {
     "end_time": "2020-12-24T18:38:53.855733Z",
     "start_time": "2020-12-24T18:38:53.853578Z"
    }
   },
   "outputs": [],
   "source": [
    "DATA = 'data'\n",
    "TARGET = 'target'\n",
    "RANDOM_STATE = 42\n",
    "TEST_SIZE = 0.2\n",
    "SYNTHETIC = 3\n",
    "FEATURE_NAMES = 'feature_names'\n",
    "MODEL_FILE_NAME = 'tyra_banks.pkl'\n",
    "JSON_TEST_FILE_NAME = 'statham.json'\n",
    "JSON_SYNTHETIC = 'voorhees.json'\n",
    "RECORD_ORIENT = 'records'\n",
    "PREDICTION_KEY = 'predictions'\n",
    "JSON_KEY = 'json'"
   ]
  },
  {
   "cell_type": "markdown",
   "metadata": {},
   "source": [
    "### 1)\n",
    "\n",
    "- for this task I have chosen to use the **Boston data set** from **sklearn**. this data set is fairly small with 506 samples and 13 features. we have used a version of it previously in class<br>\n",
    "\n",
    "- the data set can be imported directly with sklearn using `from sklearn.datasets import load_boston`\n",
    "\n",
    "- in one word I'm trying to predict: **price** (in two words house prices). the business question is - how to predict a house price based on historical data (10 words... sorry)<br><br>**regression** task\n",
    "\n",
    "**now lets get to work**<br>\n",
    "a. import data set"
   ]
  },
  {
   "cell_type": "code",
   "execution_count": 3,
   "metadata": {
    "ExecuteTime": {
     "end_time": "2020-12-24T18:38:53.866704Z",
     "start_time": "2020-12-24T18:38:53.856607Z"
    }
   },
   "outputs": [],
   "source": [
    "boston = load_boston()\n",
    "X,y = boston[DATA], boston[TARGET] "
   ]
  },
  {
   "cell_type": "markdown",
   "metadata": {},
   "source": [
    "b. split to test and train"
   ]
  },
  {
   "cell_type": "code",
   "execution_count": 4,
   "metadata": {
    "ExecuteTime": {
     "end_time": "2020-12-24T18:38:53.872439Z",
     "start_time": "2020-12-24T18:38:53.867445Z"
    }
   },
   "outputs": [],
   "source": [
    "X_train, X_test, y_train, y_test = \\\n",
    "train_test_split(X, y, test_size=TEST_SIZE, \n",
    "                 random_state=RANDOM_STATE)"
   ]
  },
  {
   "cell_type": "markdown",
   "metadata": {},
   "source": [
    "c. train **RandomForestRegressor** with default parameters"
   ]
  },
  {
   "cell_type": "code",
   "execution_count": 5,
   "metadata": {
    "ExecuteTime": {
     "end_time": "2020-12-24T18:38:54.060077Z",
     "start_time": "2020-12-24T18:38:53.873231Z"
    }
   },
   "outputs": [
    {
     "data": {
      "text/plain": [
       "RandomForestRegressor(random_state=42)"
      ]
     },
     "execution_count": 5,
     "metadata": {},
     "output_type": "execute_result"
    }
   ],
   "source": [
    "rfr = RandomForestRegressor(random_state=RANDOM_STATE)\n",
    "rfr.fit(X_train, y_train)"
   ]
  },
  {
   "cell_type": "markdown",
   "metadata": {},
   "source": [
    "d. predict and evaluate"
   ]
  },
  {
   "cell_type": "code",
   "execution_count": 6,
   "metadata": {
    "ExecuteTime": {
     "end_time": "2020-12-24T18:38:54.070658Z",
     "start_time": "2020-12-24T18:38:54.060946Z"
    }
   },
   "outputs": [
    {
     "name": "stdout",
     "output_type": "stream",
     "text": [
      "RMSE score: 2.81\n",
      "R^2 score: 0.89\n"
     ]
    }
   ],
   "source": [
    "y_pred = rfr.predict(X_test)\n",
    "print('RMSE score: {}'.format(np.round(mean_squared_error(y_test, y_pred, squared=False), 2)))\n",
    "print('R^2 score: {}'.format(np.round(r2_score(y_test, y_pred), 2)))"
   ]
  },
  {
   "cell_type": "markdown",
   "metadata": {},
   "source": [
    "e. local predictions:\n",
    "\n",
    "1. generated new testings using function that creates a synthetic data based of randomizing values from each of the train features\n",
    "2. predict the newly generated records\n",
    "        1."
   ]
  },
  {
   "cell_type": "code",
   "execution_count": 7,
   "metadata": {
    "ExecuteTime": {
     "end_time": "2020-12-24T18:38:54.084171Z",
     "start_time": "2020-12-24T18:38:54.071946Z"
    }
   },
   "outputs": [
    {
     "name": "stdout",
     "output_type": "stream",
     "text": [
      "newly generated synthetic records\n"
     ]
    },
    {
     "data": {
      "text/html": [
       "<div>\n",
       "<style scoped>\n",
       "    .dataframe tbody tr th:only-of-type {\n",
       "        vertical-align: middle;\n",
       "    }\n",
       "\n",
       "    .dataframe tbody tr th {\n",
       "        vertical-align: top;\n",
       "    }\n",
       "\n",
       "    .dataframe thead th {\n",
       "        text-align: right;\n",
       "    }\n",
       "</style>\n",
       "<table border=\"1\" class=\"dataframe\">\n",
       "  <thead>\n",
       "    <tr style=\"text-align: right;\">\n",
       "      <th></th>\n",
       "      <th>CRIM</th>\n",
       "      <th>ZN</th>\n",
       "      <th>INDUS</th>\n",
       "      <th>CHAS</th>\n",
       "      <th>NOX</th>\n",
       "      <th>RM</th>\n",
       "      <th>AGE</th>\n",
       "      <th>DIS</th>\n",
       "      <th>RAD</th>\n",
       "      <th>TAX</th>\n",
       "      <th>PTRATIO</th>\n",
       "      <th>B</th>\n",
       "      <th>LSTAT</th>\n",
       "    </tr>\n",
       "  </thead>\n",
       "  <tbody>\n",
       "    <tr>\n",
       "      <th>0</th>\n",
       "      <td>2.37857</td>\n",
       "      <td>25.0</td>\n",
       "      <td>9.90</td>\n",
       "      <td>0.0</td>\n",
       "      <td>0.547</td>\n",
       "      <td>6.421</td>\n",
       "      <td>85.7</td>\n",
       "      <td>1.5184</td>\n",
       "      <td>5.0</td>\n",
       "      <td>666.0</td>\n",
       "      <td>17.9</td>\n",
       "      <td>391.43</td>\n",
       "      <td>24.10</td>\n",
       "    </tr>\n",
       "    <tr>\n",
       "      <th>1</th>\n",
       "      <td>16.81180</td>\n",
       "      <td>0.0</td>\n",
       "      <td>2.89</td>\n",
       "      <td>0.0</td>\n",
       "      <td>0.504</td>\n",
       "      <td>6.012</td>\n",
       "      <td>53.6</td>\n",
       "      <td>1.7523</td>\n",
       "      <td>4.0</td>\n",
       "      <td>289.0</td>\n",
       "      <td>16.0</td>\n",
       "      <td>393.74</td>\n",
       "      <td>4.84</td>\n",
       "    </tr>\n",
       "    <tr>\n",
       "      <th>2</th>\n",
       "      <td>10.83420</td>\n",
       "      <td>20.0</td>\n",
       "      <td>18.10</td>\n",
       "      <td>0.0</td>\n",
       "      <td>0.671</td>\n",
       "      <td>4.652</td>\n",
       "      <td>58.7</td>\n",
       "      <td>1.7984</td>\n",
       "      <td>24.0</td>\n",
       "      <td>284.0</td>\n",
       "      <td>19.1</td>\n",
       "      <td>349.48</td>\n",
       "      <td>22.88</td>\n",
       "    </tr>\n",
       "  </tbody>\n",
       "</table>\n",
       "</div>"
      ],
      "text/plain": [
       "       CRIM    ZN  INDUS  CHAS    NOX     RM   AGE     DIS   RAD    TAX  \\\n",
       "0   2.37857  25.0   9.90   0.0  0.547  6.421  85.7  1.5184   5.0  666.0   \n",
       "1  16.81180   0.0   2.89   0.0  0.504  6.012  53.6  1.7523   4.0  289.0   \n",
       "2  10.83420  20.0  18.10   0.0  0.671  4.652  58.7  1.7984  24.0  284.0   \n",
       "\n",
       "   PTRATIO       B  LSTAT  \n",
       "0     17.9  391.43  24.10  \n",
       "1     16.0  393.74   4.84  \n",
       "2     19.1  349.48  22.88  "
      ]
     },
     "execution_count": 7,
     "metadata": {},
     "output_type": "execute_result"
    }
   ],
   "source": [
    "def get_record(x, n):\n",
    "    records = []\n",
    "    for _ in range(n):\n",
    "        records.append(np.array(\n",
    "            list(map(\n",
    "                lambda idx: np.random.choice(x[:, idx]), \n",
    "                range(len(x[0,:]))))).reshape(1,-1))\n",
    "    return np.concatenate(records)\n",
    "\n",
    "synthetic_x = get_record(X_train, SYNTHETIC)\n",
    "print('newly generated synthetic records')\n",
    "pd.DataFrame(synthetic_x, columns=boston[FEATURE_NAMES])"
   ]
  },
  {
   "cell_type": "markdown",
   "metadata": {
    "ExecuteTime": {
     "end_time": "2020-12-23T18:05:19.228702Z",
     "start_time": "2020-12-23T18:05:19.223101Z"
    }
   },
   "source": [
    "        2."
   ]
  },
  {
   "cell_type": "code",
   "execution_count": 8,
   "metadata": {
    "ExecuteTime": {
     "end_time": "2020-12-24T18:38:54.093197Z",
     "start_time": "2020-12-24T18:38:54.085172Z"
    }
   },
   "outputs": [
    {
     "name": "stdout",
     "output_type": "stream",
     "text": [
      "[15.447 25.658 12.889]\n"
     ]
    }
   ],
   "source": [
    "synthetic_y_pred = rfr.predict(synthetic_x)\n",
    "print(synthetic_y_pred)"
   ]
  },
  {
   "cell_type": "markdown",
   "metadata": {},
   "source": [
    "## 2. Save you model, predict with saved model"
   ]
  },
  {
   "cell_type": "markdown",
   "metadata": {},
   "source": [
    "Simulate in this notebook code that will happen during training on the **training server**:\n",
    "- Using `pickle`, save your model to disk. Reference: https://scikit-learn.org/stable/modules/model_persistence.html\n",
    "- Save the test dataset to file.  What's a good format(s) for saving datasets?"
   ]
  },
  {
   "cell_type": "markdown",
   "metadata": {},
   "source": [
    "### 2)"
   ]
  },
  {
   "cell_type": "markdown",
   "metadata": {},
   "source": [
    "**pickling model and stuff**"
   ]
  },
  {
   "cell_type": "code",
   "execution_count": 9,
   "metadata": {
    "ExecuteTime": {
     "end_time": "2020-12-24T18:38:54.100473Z",
     "start_time": "2020-12-24T18:38:54.093977Z"
    }
   },
   "outputs": [],
   "source": [
    "pickle.dump(rfr, open(MODEL_FILE_NAME, 'wb'))"
   ]
  },
  {
   "cell_type": "markdown",
   "metadata": {},
   "source": [
    "**jasoning datasets and stuff**"
   ]
  },
  {
   "cell_type": "code",
   "execution_count": 10,
   "metadata": {
    "ExecuteTime": {
     "end_time": "2020-12-24T18:38:54.104999Z",
     "start_time": "2020-12-24T18:38:54.101283Z"
    }
   },
   "outputs": [],
   "source": [
    "json_test = pd.DataFrame(X_test, columns=boston[FEATURE_NAMES]).to_json(orient=RECORD_ORIENT)\n",
    "json_synthetic = pd.DataFrame(synthetic_x, columns=boston[FEATURE_NAMES]).to_json(orient=RECORD_ORIENT)\n",
    "\n",
    "with open(JSON_TEST_FILE_NAME, 'w') as jt:\n",
    "    jt.write(json_test)\n",
    "    \n",
    "with open(JSON_SYNTHETIC, 'w') as js:\n",
    "    js.write(json_synthetic)"
   ]
  },
  {
   "cell_type": "markdown",
   "metadata": {},
   "source": [
    "Simulate in this notebook code that will happen during inference on the **inference server**:\n",
    "- Load the model again with `pickle`.\n",
    "- Read the test dataset file, and perform some predictions\n",
    "- Compare the predictions received before saving the model, and after reading a saved model.  Show that you get the same results. "
   ]
  },
  {
   "cell_type": "markdown",
   "metadata": {},
   "source": [
    "**loading the model and stuff**"
   ]
  },
  {
   "cell_type": "code",
   "execution_count": 11,
   "metadata": {
    "ExecuteTime": {
     "end_time": "2020-12-24T18:38:54.117144Z",
     "start_time": "2020-12-24T18:38:54.105938Z"
    }
   },
   "outputs": [],
   "source": [
    "loaded_forest = pickle.load(open(MODEL_FILE_NAME, 'rb'))"
   ]
  },
  {
   "cell_type": "markdown",
   "metadata": {
    "ExecuteTime": {
     "end_time": "2020-12-23T18:48:00.967150Z",
     "start_time": "2020-12-23T18:48:00.963743Z"
    }
   },
   "source": [
    "**read some jsons and predict**"
   ]
  },
  {
   "cell_type": "code",
   "execution_count": 12,
   "metadata": {
    "ExecuteTime": {
     "end_time": "2020-12-24T18:38:54.124276Z",
     "start_time": "2020-12-24T18:38:54.118156Z"
    }
   },
   "outputs": [],
   "source": [
    "loaded_test = pd.json_normalize(json.load(open(JSON_TEST_FILE_NAME, 'r')))\n",
    "loaded_synthetic = pd.json_normalize(json.load(open(JSON_SYNTHETIC, 'r')))"
   ]
  },
  {
   "cell_type": "markdown",
   "metadata": {},
   "source": [
    "**compare and predict**"
   ]
  },
  {
   "cell_type": "code",
   "execution_count": 13,
   "metadata": {
    "ExecuteTime": {
     "end_time": "2020-12-24T18:38:54.147429Z",
     "start_time": "2020-12-24T18:38:54.125375Z"
    }
   },
   "outputs": [
    {
     "name": "stdout",
     "output_type": "stream",
     "text": [
      "using seriliezed test set with pickled model (also serilized) gives the same predictions?\n",
      "True\n",
      "using seriliezed synthetic set with pickled model(also serilized) gives the same predictions?\n",
      "True\n"
     ]
    }
   ],
   "source": [
    "print('using serialized test set with pickled model (also serialized) '\n",
    "      'gives the same predictions?\\n{}'. \\\n",
    "      format(np.all(loaded_forest.predict(loaded_test) == y_pred)))\n",
    "\n",
    "print('using serialized synthetic set with pickled model(also serialized) '\n",
    "      'gives the same predictions?\\n{}'. \\\n",
    "      format(np.all(loaded_forest.predict(synthetic_x) == synthetic_y_pred)))"
   ]
  },
  {
   "cell_type": "markdown",
   "metadata": {},
   "source": [
    "## 3. Serve your model - using URL parameters"
   ]
  },
  {
   "cell_type": "markdown",
   "metadata": {},
   "source": [
    "Now we are done with **training server**, since we have the saved model.  From now all that's relevant is **inference server** and **client** code.\n",
    "\n",
    "Let's create the **inference server** that answers to REST APIs with predictions:"
   ]
  },
  {
   "cell_type": "markdown",
   "metadata": {},
   "source": [
    "- Using `flask`, create a Pycharm project and implement the following prediction API:\n",
    "- **Single prediction API** that receives inputs as parameters (no body), and returns a single prediction as a string / text.  \n",
    "- Example: http://localhost:5000/predict_single?key1=value1&key2=value2 (replace `key1`, `value1` etc. names with your relevant feature names and values) that would return the class label (example: `0` / `1`)\n",
    "- **Important:** For efficiency purposes, consider what's the best place in your code to put the code that reads the model.  Why?\n",
    "- **Important:** In general, take runtime efficiency into account.  Your API might be called large number of times per second, and you will be paying for more inference servers if your code is not efficient.\n",
    "- Copy your **inference server** code also here for reference"
   ]
  },
  {
   "cell_type": "markdown",
   "metadata": {},
   "source": [
    "### 3)\n",
    "\n",
    "**copy stuff**"
   ]
  },
  {
   "cell_type": "code",
   "execution_count": 14,
   "metadata": {
    "ExecuteTime": {
     "end_time": "2020-12-24T18:38:54.151091Z",
     "start_time": "2020-12-24T18:38:54.148458Z"
    }
   },
   "outputs": [
    {
     "data": {
      "text/plain": [
       "'\\napp = Flask(__name__)\\nmodel = pickle.load(open(MODEL_FILE_NAME, \\'rb\\'))\\n\\n@app.route(\\'/predict\\')\\ndef predict():\\n    \"\"\"\\n    function for predicting house prices by client requests\\n    :return: predictions in JSON\\n    \"\"\"\\n    data = pd.json_normalize(json.loads(request.args.get(JSON_KEY)))\\n    prediction = model.predict(data).tolist()\\n    return json.dumps(prediction)\\n\\ndef main():\\n    #app.run()\\n    pass\\n\\nif __name__ == \\'__main__\\':\\n    main()\\n'"
      ]
     },
     "execution_count": 14,
     "metadata": {},
     "output_type": "execute_result"
    }
   ],
   "source": [
    "'''\n",
    "app = Flask(__name__)\n",
    "model = pickle.load(open(MODEL_FILE_NAME, 'rb'))\n",
    "\n",
    "@app.route('/predict')\n",
    "def predict():\n",
    "    \"\"\"\n",
    "    function for predicting house prices by client requests\n",
    "    :return: predictions in JSON\n",
    "    \"\"\"\n",
    "    data = pd.json_normalize(json.loads(request.args.get(JSON_KEY)))\n",
    "    prediction = model.predict(data).tolist()\n",
    "    return json.dumps(prediction)\n",
    "\n",
    "def main():\n",
    "    #app.run()\n",
    "    pass\n",
    "\n",
    "if __name__ == '__main__':\n",
    "    main()\n",
    "'''"
   ]
  },
  {
   "cell_type": "markdown",
   "metadata": {},
   "source": [
    "## 4. Consume your model with python"
   ]
  },
  {
   "cell_type": "markdown",
   "metadata": {},
   "source": [
    "#### Simulate client requests for inference / prediction:\n",
    "Assume your client runs Python code also, and not only your training and inference servers (in real case scenario, often times your client code will actually not be in Python).\n",
    "Use Python `requests` module from here to request a prediction by the client from to the inference .  To pass parameters with Python `requests` module, use the `params` parameter of `requests.get` API.\n",
    "\n",
    "**Print input and output of the prediction.**\n",
    "\n",
    "**Warning**: don't get used to seeing it in a Jupyter notebook.  This code will usually run inside a **client application**"
   ]
  },
  {
   "cell_type": "markdown",
   "metadata": {},
   "source": [
    "### 4)\n",
    "\n",
    "**print a prediction input**\n",
    "    1. test set input - dictionary of JSON key, and a value as JSON (text)"
   ]
  },
  {
   "cell_type": "code",
   "execution_count": 15,
   "metadata": {
    "ExecuteTime": {
     "end_time": "2020-12-24T18:38:54.158156Z",
     "start_time": "2020-12-24T18:38:54.152349Z"
    }
   },
   "outputs": [
    {
     "name": "stdout",
     "output_type": "stream",
     "text": [
      "{'json': '[{\"CRIM\":0.09178,\"ZN\":0.0,\"INDUS\":4.05,\"CHAS\":0.0,\"NOX\":0.51,\"RM\":6.416,\"AGE\":84.1,\"DIS\":2.6463,\"RAD\":5.0,\"TAX\":296.0,\"PTRATIO\":16.6,\"B\":395.5,\"LSTAT\":9.04},{\"CRIM\":0.05644,\"ZN\":40.0,\"INDUS\":6.41,\"CHAS\":1.0,\"NOX\":0.447,\"RM\":6.758,\"AGE\":32.9,\"DIS\":4.0776,\"RAD\":4.0,\"TAX\":254.0,\"PTRATIO\":17.6,\"B\":396.9,\"LSTAT\":3.53},{\"CRIM\":0.10574,\"ZN\":0.0,\"INDUS\":27.74,\"CHAS\":0.0,\"NOX\":0.609,\"RM\":5.983,\"AGE\":98.8,\"DIS\":1.8681,\"RAD\":4.0,\"TAX\":711.0,\"PTRATIO\":20.1,\"B\":390.11,\"LSTAT\":18.07},{\"CRIM\":0.09164,\"ZN\":0.0,\"INDUS\":10.81,\"CHAS\":0.0,\"NOX\":0.413,\"RM\":6.065,\"AGE\":7.8,\"DIS\":5.2873,\"RAD\":4.0,\"TAX\":305.0,\"PTRATIO\":19.2,\"B\":390.91,\"LSTAT\":5.52},{\"CRIM\":5.09017,\"ZN\":0.0,\"INDUS\":18.1,\"CHAS\":0.0,\"NOX\":0.713,\"RM\":6.297,\"AGE\":91.8,\"DIS\":2.3682,\"RAD\":24.0,\"TAX\":666.0,\"PTRATIO\":20.2,\"B\":385.09,\"LSTAT\":17.27},{\"CRIM\":0.10153,\"ZN\":0.0,\"INDUS\":12.83,\"CHAS\":0.0,\"NOX\":0.437,\"RM\":6.279,\"AGE\":74.5,\"DIS\":4.0522,\"RAD\":5.0,\"TAX\":398.0,\"PTRATIO\":18.7,\"B\":373.66,\"LSTAT\":11.97},{\"CRIM\":0.31827,\"ZN\":0.0,\"INDUS\":9.9,\"CHAS\":0.0,\"NOX\":0.544,\"RM\":5.914,\"AGE\":83.2,\"DIS\":3.9986,\"RAD\":4.0,\"TAX\":304.0,\"PTRATIO\":18.4,\"B\":390.7,\"LSTAT\":18.33},{\"CRIM\":0.2909,\"ZN\":0.0,\"INDUS\":21.89,\"CHAS\":0.0,\"NOX\":0.624,\"RM\":6.174,\"AGE\":93.6,\"DIS\":1.6119,\"RAD\":4.0,\"TAX\":437.0,\"PTRATIO\":21.2,\"B\":388.08,\"LSTAT\":24.16},{\"CRIM\":4.03841,\"ZN\":0.0,\"INDUS\":18.1,\"CHAS\":0.0,\"NOX\":0.532,\"RM\":6.229,\"AGE\":90.7,\"DIS\":3.0993,\"RAD\":24.0,\"TAX\":666.0,\"PTRATIO\":20.2,\"B\":395.33,\"LSTAT\":12.87},{\"CRIM\":0.22438,\"ZN\":0.0,\"INDUS\":9.69,\"CHAS\":0.0,\"NOX\":0.585,\"RM\":6.027,\"AGE\":79.7,\"DIS\":2.4982,\"RAD\":6.0,\"TAX\":391.0,\"PTRATIO\":19.2,\"B\":396.9,\"LSTAT\":14.33},{\"CRIM\":0.11069,\"ZN\":0.0,\"INDUS\":13.89,\"CHAS\":1.0,\"NOX\":0.55,\"RM\":5.951,\"AGE\":93.8,\"DIS\":2.8893,\"RAD\":5.0,\"TAX\":276.0,\"PTRATIO\":16.4,\"B\":396.9,\"LSTAT\":17.92},{\"CRIM\":0.17004,\"ZN\":12.5,\"INDUS\":7.87,\"CHAS\":0.0,\"NOX\":0.524,\"RM\":6.004,\"AGE\":85.9,\"DIS\":6.5921,\"RAD\":5.0,\"TAX\":311.0,\"PTRATIO\":15.2,\"B\":386.71,\"LSTAT\":17.1},{\"CRIM\":45.7461,\"ZN\":0.0,\"INDUS\":18.1,\"CHAS\":0.0,\"NOX\":0.693,\"RM\":4.519,\"AGE\":100.0,\"DIS\":1.6582,\"RAD\":24.0,\"TAX\":666.0,\"PTRATIO\":20.2,\"B\":88.27,\"LSTAT\":36.98},{\"CRIM\":0.05646,\"ZN\":0.0,\"INDUS\":12.83,\"CHAS\":0.0,\"NOX\":0.437,\"RM\":6.232,\"AGE\":53.7,\"DIS\":5.0141,\"RAD\":5.0,\"TAX\":398.0,\"PTRATIO\":18.7,\"B\":386.4,\"LSTAT\":12.34},{\"CRIM\":0.28392,\"ZN\":0.0,\"INDUS\":7.38,\"CHAS\":0.0,\"NOX\":0.493,\"RM\":5.708,\"AGE\":74.3,\"DIS\":4.7211,\"RAD\":5.0,\"TAX\":287.0,\"PTRATIO\":19.6,\"B\":391.13,\"LSTAT\":11.74},{\"CRIM\":4.64689,\"ZN\":0.0,\"INDUS\":18.1,\"CHAS\":0.0,\"NOX\":0.614,\"RM\":6.98,\"AGE\":67.6,\"DIS\":2.5329,\"RAD\":24.0,\"TAX\":666.0,\"PTRATIO\":20.2,\"B\":374.68,\"LSTAT\":11.66},{\"CRIM\":0.09849,\"ZN\":0.0,\"INDUS\":25.65,\"CHAS\":0.0,\"NOX\":0.581,\"RM\":5.879,\"AGE\":95.8,\"DIS\":2.0063,\"RAD\":2.0,\"TAX\":188.0,\"PTRATIO\":19.1,\"B\":379.38,\"LSTAT\":17.58},{\"CRIM\":14.3337,\"ZN\":0.0,\"INDUS\":18.1,\"CHAS\":0.0,\"NOX\":0.7,\"RM\":4.88,\"AGE\":100.0,\"DIS\":1.5895,\"RAD\":24.0,\"TAX\":666.0,\"PTRATIO\":20.2,\"B\":372.92,\"LSTAT\":30.62},{\"CRIM\":0.01381,\"ZN\":80.0,\"INDUS\":0.46,\"CHAS\":0.0,\"NOX\":0.422,\"RM\":7.875,\"AGE\":32.0,\"DIS\":5.6484,\"RAD\":4.0,\"TAX\":255.0,\"PTRATIO\":14.4,\"B\":394.23,\"LSTAT\":2.97},{\"CRIM\":9.32909,\"ZN\":0.0,\"INDUS\":18.1,\"CHAS\":0.0,\"NOX\":0.713,\"RM\":6.185,\"AGE\":98.7,\"DIS\":2.2616,\"RAD\":24.0,\"TAX\":666.0,\"PTRATIO\":20.2,\"B\":396.9,\"LSTAT\":18.13},{\"CRIM\":0.16211,\"ZN\":20.0,\"INDUS\":6.96,\"CHAS\":0.0,\"NOX\":0.464,\"RM\":6.24,\"AGE\":16.3,\"DIS\":4.429,\"RAD\":3.0,\"TAX\":223.0,\"PTRATIO\":18.6,\"B\":396.9,\"LSTAT\":6.59},{\"CRIM\":0.07978,\"ZN\":40.0,\"INDUS\":6.41,\"CHAS\":0.0,\"NOX\":0.447,\"RM\":6.482,\"AGE\":32.1,\"DIS\":4.1403,\"RAD\":4.0,\"TAX\":254.0,\"PTRATIO\":17.6,\"B\":396.9,\"LSTAT\":7.19},{\"CRIM\":1.13081,\"ZN\":0.0,\"INDUS\":8.14,\"CHAS\":0.0,\"NOX\":0.538,\"RM\":5.713,\"AGE\":94.1,\"DIS\":4.233,\"RAD\":4.0,\"TAX\":307.0,\"PTRATIO\":21.0,\"B\":360.17,\"LSTAT\":22.6},{\"CRIM\":0.06263,\"ZN\":0.0,\"INDUS\":11.93,\"CHAS\":0.0,\"NOX\":0.573,\"RM\":6.593,\"AGE\":69.1,\"DIS\":2.4786,\"RAD\":1.0,\"TAX\":273.0,\"PTRATIO\":21.0,\"B\":391.99,\"LSTAT\":9.67},{\"CRIM\":7.02259,\"ZN\":0.0,\"INDUS\":18.1,\"CHAS\":0.0,\"NOX\":0.718,\"RM\":6.006,\"AGE\":95.3,\"DIS\":1.8746,\"RAD\":24.0,\"TAX\":666.0,\"PTRATIO\":20.2,\"B\":319.98,\"LSTAT\":15.7},{\"CRIM\":8.05579,\"ZN\":0.0,\"INDUS\":18.1,\"CHAS\":0.0,\"NOX\":0.584,\"RM\":5.427,\"AGE\":95.4,\"DIS\":2.4298,\"RAD\":24.0,\"TAX\":666.0,\"PTRATIO\":20.2,\"B\":352.58,\"LSTAT\":18.14},{\"CRIM\":0.08387,\"ZN\":0.0,\"INDUS\":12.83,\"CHAS\":0.0,\"NOX\":0.437,\"RM\":5.874,\"AGE\":36.6,\"DIS\":4.5026,\"RAD\":5.0,\"TAX\":398.0,\"PTRATIO\":18.7,\"B\":396.06,\"LSTAT\":9.1},{\"CRIM\":9.51363,\"ZN\":0.0,\"INDUS\":18.1,\"CHAS\":0.0,\"NOX\":0.713,\"RM\":6.728,\"AGE\":94.1,\"DIS\":2.4961,\"RAD\":24.0,\"TAX\":666.0,\"PTRATIO\":20.2,\"B\":6.68,\"LSTAT\":18.71},{\"CRIM\":0.17446,\"ZN\":0.0,\"INDUS\":10.59,\"CHAS\":1.0,\"NOX\":0.489,\"RM\":5.96,\"AGE\":92.1,\"DIS\":3.8771,\"RAD\":4.0,\"TAX\":277.0,\"PTRATIO\":18.6,\"B\":393.25,\"LSTAT\":17.27},{\"CRIM\":0.26838,\"ZN\":0.0,\"INDUS\":9.69,\"CHAS\":0.0,\"NOX\":0.585,\"RM\":5.794,\"AGE\":70.6,\"DIS\":2.8927,\"RAD\":6.0,\"TAX\":391.0,\"PTRATIO\":19.2,\"B\":396.9,\"LSTAT\":14.1},{\"CRIM\":0.13914,\"ZN\":0.0,\"INDUS\":4.05,\"CHAS\":0.0,\"NOX\":0.51,\"RM\":5.572,\"AGE\":88.5,\"DIS\":2.5961,\"RAD\":5.0,\"TAX\":296.0,\"PTRATIO\":16.6,\"B\":396.9,\"LSTAT\":14.69},{\"CRIM\":0.1676,\"ZN\":0.0,\"INDUS\":7.38,\"CHAS\":0.0,\"NOX\":0.493,\"RM\":6.426,\"AGE\":52.3,\"DIS\":4.5404,\"RAD\":5.0,\"TAX\":287.0,\"PTRATIO\":19.6,\"B\":396.9,\"LSTAT\":7.2},{\"CRIM\":19.6091,\"ZN\":0.0,\"INDUS\":18.1,\"CHAS\":0.0,\"NOX\":0.671,\"RM\":7.313,\"AGE\":97.9,\"DIS\":1.3163,\"RAD\":24.0,\"TAX\":666.0,\"PTRATIO\":20.2,\"B\":396.9,\"LSTAT\":13.44},{\"CRIM\":3.67822,\"ZN\":0.0,\"INDUS\":18.1,\"CHAS\":0.0,\"NOX\":0.77,\"RM\":5.362,\"AGE\":96.2,\"DIS\":2.1036,\"RAD\":24.0,\"TAX\":666.0,\"PTRATIO\":20.2,\"B\":380.79,\"LSTAT\":10.19},{\"CRIM\":4.42228,\"ZN\":0.0,\"INDUS\":18.1,\"CHAS\":0.0,\"NOX\":0.584,\"RM\":6.003,\"AGE\":94.5,\"DIS\":2.5403,\"RAD\":24.0,\"TAX\":666.0,\"PTRATIO\":20.2,\"B\":331.29,\"LSTAT\":21.32},{\"CRIM\":2.14918,\"ZN\":0.0,\"INDUS\":19.58,\"CHAS\":0.0,\"NOX\":0.871,\"RM\":5.709,\"AGE\":98.5,\"DIS\":1.6232,\"RAD\":5.0,\"TAX\":403.0,\"PTRATIO\":14.7,\"B\":261.95,\"LSTAT\":15.79},{\"CRIM\":0.02729,\"ZN\":0.0,\"INDUS\":7.07,\"CHAS\":0.0,\"NOX\":0.469,\"RM\":7.185,\"AGE\":61.1,\"DIS\":4.9671,\"RAD\":2.0,\"TAX\":242.0,\"PTRATIO\":17.8,\"B\":392.83,\"LSTAT\":4.03},{\"CRIM\":0.03427,\"ZN\":0.0,\"INDUS\":5.19,\"CHAS\":0.0,\"NOX\":0.515,\"RM\":5.869,\"AGE\":46.3,\"DIS\":5.2311,\"RAD\":5.0,\"TAX\":224.0,\"PTRATIO\":20.2,\"B\":396.9,\"LSTAT\":9.8},{\"CRIM\":0.13587,\"ZN\":0.0,\"INDUS\":10.59,\"CHAS\":1.0,\"NOX\":0.489,\"RM\":6.064,\"AGE\":59.1,\"DIS\":4.2392,\"RAD\":4.0,\"TAX\":277.0,\"PTRATIO\":18.6,\"B\":381.32,\"LSTAT\":14.66},{\"CRIM\":0.19539,\"ZN\":0.0,\"INDUS\":10.81,\"CHAS\":0.0,\"NOX\":0.413,\"RM\":6.245,\"AGE\":6.2,\"DIS\":5.2873,\"RAD\":4.0,\"TAX\":305.0,\"PTRATIO\":19.2,\"B\":377.17,\"LSTAT\":7.54},{\"CRIM\":0.2896,\"ZN\":0.0,\"INDUS\":9.69,\"CHAS\":0.0,\"NOX\":0.585,\"RM\":5.39,\"AGE\":72.9,\"DIS\":2.7986,\"RAD\":6.0,\"TAX\":391.0,\"PTRATIO\":19.2,\"B\":396.9,\"LSTAT\":21.14},{\"CRIM\":0.04932,\"ZN\":33.0,\"INDUS\":2.18,\"CHAS\":0.0,\"NOX\":0.472,\"RM\":6.849,\"AGE\":70.3,\"DIS\":3.1827,\"RAD\":7.0,\"TAX\":222.0,\"PTRATIO\":18.4,\"B\":396.9,\"LSTAT\":7.53},{\"CRIM\":0.02009,\"ZN\":95.0,\"INDUS\":2.68,\"CHAS\":0.0,\"NOX\":0.4161,\"RM\":8.034,\"AGE\":31.9,\"DIS\":5.118,\"RAD\":4.0,\"TAX\":224.0,\"PTRATIO\":14.7,\"B\":390.55,\"LSTAT\":2.88},{\"CRIM\":0.13554,\"ZN\":12.5,\"INDUS\":6.07,\"CHAS\":0.0,\"NOX\":0.409,\"RM\":5.594,\"AGE\":36.8,\"DIS\":6.498,\"RAD\":4.0,\"TAX\":345.0,\"PTRATIO\":18.9,\"B\":396.9,\"LSTAT\":13.09},{\"CRIM\":0.04684,\"ZN\":0.0,\"INDUS\":3.41,\"CHAS\":0.0,\"NOX\":0.489,\"RM\":6.417,\"AGE\":66.1,\"DIS\":3.0923,\"RAD\":2.0,\"TAX\":270.0,\"PTRATIO\":17.8,\"B\":392.18,\"LSTAT\":8.81},{\"CRIM\":6.96215,\"ZN\":0.0,\"INDUS\":18.1,\"CHAS\":0.0,\"NOX\":0.7,\"RM\":5.713,\"AGE\":97.0,\"DIS\":1.9265,\"RAD\":24.0,\"TAX\":666.0,\"PTRATIO\":20.2,\"B\":394.43,\"LSTAT\":17.11},{\"CRIM\":1.15172,\"ZN\":0.0,\"INDUS\":8.14,\"CHAS\":0.0,\"NOX\":0.538,\"RM\":5.701,\"AGE\":95.0,\"DIS\":3.7872,\"RAD\":4.0,\"TAX\":307.0,\"PTRATIO\":21.0,\"B\":358.77,\"LSTAT\":18.35},{\"CRIM\":0.08826,\"ZN\":0.0,\"INDUS\":10.81,\"CHAS\":0.0,\"NOX\":0.413,\"RM\":6.417,\"AGE\":6.6,\"DIS\":5.2873,\"RAD\":4.0,\"TAX\":305.0,\"PTRATIO\":19.2,\"B\":383.73,\"LSTAT\":6.72},{\"CRIM\":4.34879,\"ZN\":0.0,\"INDUS\":18.1,\"CHAS\":0.0,\"NOX\":0.58,\"RM\":6.167,\"AGE\":84.0,\"DIS\":3.0334,\"RAD\":24.0,\"TAX\":666.0,\"PTRATIO\":20.2,\"B\":396.9,\"LSTAT\":16.29},{\"CRIM\":0.00632,\"ZN\":18.0,\"INDUS\":2.31,\"CHAS\":0.0,\"NOX\":0.538,\"RM\":6.575,\"AGE\":65.2,\"DIS\":4.09,\"RAD\":1.0,\"TAX\":296.0,\"PTRATIO\":15.3,\"B\":396.9,\"LSTAT\":4.98},{\"CRIM\":0.11747,\"ZN\":12.5,\"INDUS\":7.87,\"CHAS\":0.0,\"NOX\":0.524,\"RM\":6.009,\"AGE\":82.9,\"DIS\":6.2267,\"RAD\":5.0,\"TAX\":311.0,\"PTRATIO\":15.2,\"B\":396.9,\"LSTAT\":13.27},{\"CRIM\":0.03705,\"ZN\":20.0,\"INDUS\":3.33,\"CHAS\":0.0,\"NOX\":0.4429,\"RM\":6.968,\"AGE\":37.2,\"DIS\":5.2447,\"RAD\":5.0,\"TAX\":216.0,\"PTRATIO\":14.9,\"B\":392.23,\"LSTAT\":4.59},{\"CRIM\":1.23247,\"ZN\":0.0,\"INDUS\":8.14,\"CHAS\":0.0,\"NOX\":0.538,\"RM\":6.142,\"AGE\":91.7,\"DIS\":3.9769,\"RAD\":4.0,\"TAX\":307.0,\"PTRATIO\":21.0,\"B\":396.9,\"LSTAT\":18.72},{\"CRIM\":0.11432,\"ZN\":0.0,\"INDUS\":8.56,\"CHAS\":0.0,\"NOX\":0.52,\"RM\":6.781,\"AGE\":71.3,\"DIS\":2.8561,\"RAD\":5.0,\"TAX\":384.0,\"PTRATIO\":20.9,\"B\":395.58,\"LSTAT\":7.67},{\"CRIM\":0.5405,\"ZN\":20.0,\"INDUS\":3.97,\"CHAS\":0.0,\"NOX\":0.575,\"RM\":7.47,\"AGE\":52.6,\"DIS\":2.872,\"RAD\":5.0,\"TAX\":264.0,\"PTRATIO\":13.0,\"B\":390.3,\"LSTAT\":3.16},{\"CRIM\":3.67367,\"ZN\":0.0,\"INDUS\":18.1,\"CHAS\":0.0,\"NOX\":0.583,\"RM\":6.312,\"AGE\":51.9,\"DIS\":3.9917,\"RAD\":24.0,\"TAX\":666.0,\"PTRATIO\":20.2,\"B\":388.62,\"LSTAT\":10.58},{\"CRIM\":5.66637,\"ZN\":0.0,\"INDUS\":18.1,\"CHAS\":0.0,\"NOX\":0.74,\"RM\":6.219,\"AGE\":100.0,\"DIS\":2.0048,\"RAD\":24.0,\"TAX\":666.0,\"PTRATIO\":20.2,\"B\":395.69,\"LSTAT\":16.59},{\"CRIM\":0.03502,\"ZN\":80.0,\"INDUS\":4.95,\"CHAS\":0.0,\"NOX\":0.411,\"RM\":6.861,\"AGE\":27.9,\"DIS\":5.1167,\"RAD\":4.0,\"TAX\":245.0,\"PTRATIO\":19.2,\"B\":396.9,\"LSTAT\":3.33},{\"CRIM\":0.05059,\"ZN\":0.0,\"INDUS\":4.49,\"CHAS\":0.0,\"NOX\":0.449,\"RM\":6.389,\"AGE\":48.0,\"DIS\":4.7794,\"RAD\":3.0,\"TAX\":247.0,\"PTRATIO\":18.5,\"B\":396.9,\"LSTAT\":9.62},{\"CRIM\":0.19133,\"ZN\":22.0,\"INDUS\":5.86,\"CHAS\":0.0,\"NOX\":0.431,\"RM\":5.605,\"AGE\":70.2,\"DIS\":7.9549,\"RAD\":7.0,\"TAX\":330.0,\"PTRATIO\":19.1,\"B\":389.13,\"LSTAT\":18.46},{\"CRIM\":0.1265,\"ZN\":25.0,\"INDUS\":5.13,\"CHAS\":0.0,\"NOX\":0.453,\"RM\":6.762,\"AGE\":43.4,\"DIS\":7.9809,\"RAD\":8.0,\"TAX\":284.0,\"PTRATIO\":19.7,\"B\":395.58,\"LSTAT\":9.5},{\"CRIM\":0.01311,\"ZN\":90.0,\"INDUS\":1.22,\"CHAS\":0.0,\"NOX\":0.403,\"RM\":7.249,\"AGE\":21.9,\"DIS\":8.6966,\"RAD\":5.0,\"TAX\":226.0,\"PTRATIO\":17.9,\"B\":395.93,\"LSTAT\":4.81},{\"CRIM\":0.44178,\"ZN\":0.0,\"INDUS\":6.2,\"CHAS\":0.0,\"NOX\":0.504,\"RM\":6.552,\"AGE\":21.4,\"DIS\":3.3751,\"RAD\":8.0,\"TAX\":307.0,\"PTRATIO\":17.4,\"B\":380.34,\"LSTAT\":3.76},{\"CRIM\":0.80271,\"ZN\":0.0,\"INDUS\":8.14,\"CHAS\":0.0,\"NOX\":0.538,\"RM\":5.456,\"AGE\":36.6,\"DIS\":3.7965,\"RAD\":4.0,\"TAX\":307.0,\"PTRATIO\":21.0,\"B\":288.99,\"LSTAT\":11.69},{\"CRIM\":0.0795,\"ZN\":60.0,\"INDUS\":1.69,\"CHAS\":0.0,\"NOX\":0.411,\"RM\":6.579,\"AGE\":35.9,\"DIS\":10.7103,\"RAD\":4.0,\"TAX\":411.0,\"PTRATIO\":18.3,\"B\":370.78,\"LSTAT\":5.49},{\"CRIM\":0.43571,\"ZN\":0.0,\"INDUS\":10.59,\"CHAS\":1.0,\"NOX\":0.489,\"RM\":5.344,\"AGE\":100.0,\"DIS\":3.875,\"RAD\":4.0,\"TAX\":277.0,\"PTRATIO\":18.6,\"B\":396.9,\"LSTAT\":23.09},{\"CRIM\":8.71675,\"ZN\":0.0,\"INDUS\":18.1,\"CHAS\":0.0,\"NOX\":0.693,\"RM\":6.471,\"AGE\":98.8,\"DIS\":1.7257,\"RAD\":24.0,\"TAX\":666.0,\"PTRATIO\":20.2,\"B\":391.98,\"LSTAT\":17.12},{\"CRIM\":0.03659,\"ZN\":25.0,\"INDUS\":4.86,\"CHAS\":0.0,\"NOX\":0.426,\"RM\":6.302,\"AGE\":32.2,\"DIS\":5.4007,\"RAD\":4.0,\"TAX\":281.0,\"PTRATIO\":19.0,\"B\":396.9,\"LSTAT\":6.72},{\"CRIM\":0.02763,\"ZN\":75.0,\"INDUS\":2.95,\"CHAS\":0.0,\"NOX\":0.428,\"RM\":6.595,\"AGE\":21.8,\"DIS\":5.4011,\"RAD\":3.0,\"TAX\":252.0,\"PTRATIO\":18.3,\"B\":395.63,\"LSTAT\":4.32},{\"CRIM\":4.66883,\"ZN\":0.0,\"INDUS\":18.1,\"CHAS\":0.0,\"NOX\":0.713,\"RM\":5.976,\"AGE\":87.9,\"DIS\":2.5806,\"RAD\":24.0,\"TAX\":666.0,\"PTRATIO\":20.2,\"B\":10.48,\"LSTAT\":19.01},{\"CRIM\":0.18836,\"ZN\":0.0,\"INDUS\":6.91,\"CHAS\":0.0,\"NOX\":0.448,\"RM\":5.786,\"AGE\":33.3,\"DIS\":5.1004,\"RAD\":3.0,\"TAX\":233.0,\"PTRATIO\":17.9,\"B\":396.9,\"LSTAT\":14.15},{\"CRIM\":5.70818,\"ZN\":0.0,\"INDUS\":18.1,\"CHAS\":0.0,\"NOX\":0.532,\"RM\":6.75,\"AGE\":74.9,\"DIS\":3.3317,\"RAD\":24.0,\"TAX\":666.0,\"PTRATIO\":20.2,\"B\":393.07,\"LSTAT\":7.74},{\"CRIM\":12.8023,\"ZN\":0.0,\"INDUS\":18.1,\"CHAS\":0.0,\"NOX\":0.74,\"RM\":5.854,\"AGE\":96.6,\"DIS\":1.8956,\"RAD\":24.0,\"TAX\":666.0,\"PTRATIO\":20.2,\"B\":240.52,\"LSTAT\":23.79},{\"CRIM\":0.10659,\"ZN\":80.0,\"INDUS\":1.91,\"CHAS\":0.0,\"NOX\":0.413,\"RM\":5.936,\"AGE\":19.5,\"DIS\":10.5857,\"RAD\":4.0,\"TAX\":334.0,\"PTRATIO\":22.0,\"B\":376.04,\"LSTAT\":5.57},{\"CRIM\":0.08707,\"ZN\":0.0,\"INDUS\":12.83,\"CHAS\":0.0,\"NOX\":0.437,\"RM\":6.14,\"AGE\":45.8,\"DIS\":4.0905,\"RAD\":5.0,\"TAX\":398.0,\"PTRATIO\":18.7,\"B\":386.96,\"LSTAT\":10.27},{\"CRIM\":38.3518,\"ZN\":0.0,\"INDUS\":18.1,\"CHAS\":0.0,\"NOX\":0.693,\"RM\":5.453,\"AGE\":100.0,\"DIS\":1.4896,\"RAD\":24.0,\"TAX\":666.0,\"PTRATIO\":20.2,\"B\":396.9,\"LSTAT\":30.59},{\"CRIM\":0.1396,\"ZN\":0.0,\"INDUS\":8.56,\"CHAS\":0.0,\"NOX\":0.52,\"RM\":6.167,\"AGE\":90.0,\"DIS\":2.421,\"RAD\":5.0,\"TAX\":384.0,\"PTRATIO\":20.9,\"B\":392.69,\"LSTAT\":12.33},{\"CRIM\":0.0351,\"ZN\":95.0,\"INDUS\":2.68,\"CHAS\":0.0,\"NOX\":0.4161,\"RM\":7.853,\"AGE\":33.2,\"DIS\":5.118,\"RAD\":4.0,\"TAX\":224.0,\"PTRATIO\":14.7,\"B\":392.78,\"LSTAT\":3.81},{\"CRIM\":15.8744,\"ZN\":0.0,\"INDUS\":18.1,\"CHAS\":0.0,\"NOX\":0.671,\"RM\":6.545,\"AGE\":99.1,\"DIS\":1.5192,\"RAD\":24.0,\"TAX\":666.0,\"PTRATIO\":20.2,\"B\":396.9,\"LSTAT\":21.08},{\"CRIM\":0.18337,\"ZN\":0.0,\"INDUS\":27.74,\"CHAS\":0.0,\"NOX\":0.609,\"RM\":5.414,\"AGE\":98.3,\"DIS\":1.7554,\"RAD\":4.0,\"TAX\":711.0,\"PTRATIO\":20.1,\"B\":344.05,\"LSTAT\":23.97},{\"CRIM\":0.12816,\"ZN\":12.5,\"INDUS\":6.07,\"CHAS\":0.0,\"NOX\":0.409,\"RM\":5.885,\"AGE\":33.0,\"DIS\":6.498,\"RAD\":4.0,\"TAX\":345.0,\"PTRATIO\":18.9,\"B\":396.9,\"LSTAT\":8.79},{\"CRIM\":7.40389,\"ZN\":0.0,\"INDUS\":18.1,\"CHAS\":0.0,\"NOX\":0.597,\"RM\":5.617,\"AGE\":97.9,\"DIS\":1.4547,\"RAD\":24.0,\"TAX\":666.0,\"PTRATIO\":20.2,\"B\":314.64,\"LSTAT\":26.4},{\"CRIM\":0.03548,\"ZN\":80.0,\"INDUS\":3.64,\"CHAS\":0.0,\"NOX\":0.392,\"RM\":5.876,\"AGE\":19.1,\"DIS\":9.2203,\"RAD\":1.0,\"TAX\":315.0,\"PTRATIO\":16.4,\"B\":395.18,\"LSTAT\":9.25},{\"CRIM\":11.5779,\"ZN\":0.0,\"INDUS\":18.1,\"CHAS\":0.0,\"NOX\":0.7,\"RM\":5.036,\"AGE\":97.0,\"DIS\":1.77,\"RAD\":24.0,\"TAX\":666.0,\"PTRATIO\":20.2,\"B\":396.9,\"LSTAT\":25.68},{\"CRIM\":0.26169,\"ZN\":0.0,\"INDUS\":9.9,\"CHAS\":0.0,\"NOX\":0.544,\"RM\":6.023,\"AGE\":90.4,\"DIS\":2.834,\"RAD\":4.0,\"TAX\":304.0,\"PTRATIO\":18.4,\"B\":396.3,\"LSTAT\":11.72},{\"CRIM\":0.44791,\"ZN\":0.0,\"INDUS\":6.2,\"CHAS\":1.0,\"NOX\":0.507,\"RM\":6.726,\"AGE\":66.5,\"DIS\":3.6519,\"RAD\":8.0,\"TAX\":307.0,\"PTRATIO\":17.4,\"B\":360.2,\"LSTAT\":8.05},{\"CRIM\":4.81213,\"ZN\":0.0,\"INDUS\":18.1,\"CHAS\":0.0,\"NOX\":0.713,\"RM\":6.701,\"AGE\":90.0,\"DIS\":2.5975,\"RAD\":24.0,\"TAX\":666.0,\"PTRATIO\":20.2,\"B\":255.23,\"LSTAT\":16.42},{\"CRIM\":0.34109,\"ZN\":0.0,\"INDUS\":7.38,\"CHAS\":0.0,\"NOX\":0.493,\"RM\":6.415,\"AGE\":40.1,\"DIS\":4.7211,\"RAD\":5.0,\"TAX\":287.0,\"PTRATIO\":19.6,\"B\":396.9,\"LSTAT\":6.12},{\"CRIM\":0.02875,\"ZN\":28.0,\"INDUS\":15.04,\"CHAS\":0.0,\"NOX\":0.464,\"RM\":6.211,\"AGE\":28.9,\"DIS\":3.6659,\"RAD\":4.0,\"TAX\":270.0,\"PTRATIO\":18.2,\"B\":396.33,\"LSTAT\":6.21},{\"CRIM\":0.35233,\"ZN\":0.0,\"INDUS\":21.89,\"CHAS\":0.0,\"NOX\":0.624,\"RM\":6.454,\"AGE\":98.4,\"DIS\":1.8498,\"RAD\":4.0,\"TAX\":437.0,\"PTRATIO\":21.2,\"B\":394.08,\"LSTAT\":14.59},{\"CRIM\":0.07022,\"ZN\":0.0,\"INDUS\":4.05,\"CHAS\":0.0,\"NOX\":0.51,\"RM\":6.02,\"AGE\":47.2,\"DIS\":3.5549,\"RAD\":5.0,\"TAX\":296.0,\"PTRATIO\":16.6,\"B\":393.23,\"LSTAT\":10.11},{\"CRIM\":25.9406,\"ZN\":0.0,\"INDUS\":18.1,\"CHAS\":0.0,\"NOX\":0.679,\"RM\":5.304,\"AGE\":89.1,\"DIS\":1.6475,\"RAD\":24.0,\"TAX\":666.0,\"PTRATIO\":20.2,\"B\":127.36,\"LSTAT\":26.64},{\"CRIM\":1.19294,\"ZN\":0.0,\"INDUS\":21.89,\"CHAS\":0.0,\"NOX\":0.624,\"RM\":6.326,\"AGE\":97.7,\"DIS\":2.271,\"RAD\":4.0,\"TAX\":437.0,\"PTRATIO\":21.2,\"B\":396.9,\"LSTAT\":12.26},{\"CRIM\":0.06162,\"ZN\":0.0,\"INDUS\":4.39,\"CHAS\":0.0,\"NOX\":0.442,\"RM\":5.898,\"AGE\":52.3,\"DIS\":8.0136,\"RAD\":3.0,\"TAX\":352.0,\"PTRATIO\":18.8,\"B\":364.61,\"LSTAT\":12.67},{\"CRIM\":4.55587,\"ZN\":0.0,\"INDUS\":18.1,\"CHAS\":0.0,\"NOX\":0.718,\"RM\":3.561,\"AGE\":87.9,\"DIS\":1.6132,\"RAD\":24.0,\"TAX\":666.0,\"PTRATIO\":20.2,\"B\":354.7,\"LSTAT\":7.12},{\"CRIM\":0.59005,\"ZN\":0.0,\"INDUS\":21.89,\"CHAS\":0.0,\"NOX\":0.624,\"RM\":6.372,\"AGE\":97.9,\"DIS\":2.3274,\"RAD\":4.0,\"TAX\":437.0,\"PTRATIO\":21.2,\"B\":385.76,\"LSTAT\":11.12},{\"CRIM\":9.2323,\"ZN\":0.0,\"INDUS\":18.1,\"CHAS\":0.0,\"NOX\":0.631,\"RM\":6.216,\"AGE\":100.0,\"DIS\":1.1691,\"RAD\":24.0,\"TAX\":666.0,\"PTRATIO\":20.2,\"B\":366.15,\"LSTAT\":9.53},{\"CRIM\":18.811,\"ZN\":0.0,\"INDUS\":18.1,\"CHAS\":0.0,\"NOX\":0.597,\"RM\":4.628,\"AGE\":100.0,\"DIS\":1.5539,\"RAD\":24.0,\"TAX\":666.0,\"PTRATIO\":20.2,\"B\":28.79,\"LSTAT\":34.37},{\"CRIM\":14.4208,\"ZN\":0.0,\"INDUS\":18.1,\"CHAS\":0.0,\"NOX\":0.74,\"RM\":6.461,\"AGE\":93.3,\"DIS\":2.0026,\"RAD\":24.0,\"TAX\":666.0,\"PTRATIO\":20.2,\"B\":27.49,\"LSTAT\":18.05},{\"CRIM\":14.0507,\"ZN\":0.0,\"INDUS\":18.1,\"CHAS\":0.0,\"NOX\":0.597,\"RM\":6.657,\"AGE\":100.0,\"DIS\":1.5275,\"RAD\":24.0,\"TAX\":666.0,\"PTRATIO\":20.2,\"B\":35.05,\"LSTAT\":21.22},{\"CRIM\":0.05188,\"ZN\":0.0,\"INDUS\":4.49,\"CHAS\":0.0,\"NOX\":0.449,\"RM\":6.015,\"AGE\":45.1,\"DIS\":4.4272,\"RAD\":3.0,\"TAX\":247.0,\"PTRATIO\":18.5,\"B\":395.99,\"LSTAT\":12.86},{\"CRIM\":0.09512,\"ZN\":0.0,\"INDUS\":12.83,\"CHAS\":0.0,\"NOX\":0.437,\"RM\":6.286,\"AGE\":45.0,\"DIS\":4.5026,\"RAD\":5.0,\"TAX\":398.0,\"PTRATIO\":18.7,\"B\":383.23,\"LSTAT\":8.94}]'}\n"
     ]
    }
   ],
   "source": [
    "print({JSON_KEY: json_test})"
   ]
  },
  {
   "cell_type": "markdown",
   "metadata": {},
   "source": [
    "    2. synthetic input (3 records) - dictionary of JSON key and a value as JSON (text)\n"
   ]
  },
  {
   "cell_type": "code",
   "execution_count": 16,
   "metadata": {
    "ExecuteTime": {
     "end_time": "2020-12-24T18:38:54.163420Z",
     "start_time": "2020-12-24T18:38:54.159396Z"
    }
   },
   "outputs": [
    {
     "name": "stdout",
     "output_type": "stream",
     "text": [
      "{'json': '[{\"CRIM\":2.37857,\"ZN\":25.0,\"INDUS\":9.9,\"CHAS\":0.0,\"NOX\":0.547,\"RM\":6.421,\"AGE\":85.7,\"DIS\":1.5184,\"RAD\":5.0,\"TAX\":666.0,\"PTRATIO\":17.9,\"B\":391.43,\"LSTAT\":24.1},{\"CRIM\":16.8118,\"ZN\":0.0,\"INDUS\":2.89,\"CHAS\":0.0,\"NOX\":0.504,\"RM\":6.012,\"AGE\":53.6,\"DIS\":1.7523,\"RAD\":4.0,\"TAX\":289.0,\"PTRATIO\":16.0,\"B\":393.74,\"LSTAT\":4.84},{\"CRIM\":10.8342,\"ZN\":20.0,\"INDUS\":18.1,\"CHAS\":0.0,\"NOX\":0.671,\"RM\":4.652,\"AGE\":58.7,\"DIS\":1.7984,\"RAD\":24.0,\"TAX\":284.0,\"PTRATIO\":19.1,\"B\":349.48,\"LSTAT\":22.88}]'}\n"
     ]
    }
   ],
   "source": [
    "print({JSON_KEY: json_synthetic})"
   ]
  },
  {
   "cell_type": "markdown",
   "metadata": {},
   "source": [
    "**predicting**\n",
    "\n",
    "(+minimal parsing - since the client has python it should work for him/her)"
   ]
  },
  {
   "cell_type": "code",
   "execution_count": 17,
   "metadata": {
    "ExecuteTime": {
     "end_time": "2020-12-24T18:38:54.232082Z",
     "start_time": "2020-12-24T18:38:54.164620Z"
    }
   },
   "outputs": [],
   "source": [
    "url = 'http://localhost:5000/predict'\n",
    "y_pred = json.loads(requests.get(url=url, params={JSON_KEY: json_test}).text)[PREDICTION_KEY]\n",
    "synthetic_y_pred = json.loads(requests.get(url=url, params={JSON_KEY: json_synthetic}).text)[PREDICTION_KEY]"
   ]
  },
  {
   "cell_type": "markdown",
   "metadata": {},
   "source": [
    "**printing prediction output**\n",
    "\n",
    "    1. test set prediction"
   ]
  },
  {
   "cell_type": "code",
   "execution_count": 18,
   "metadata": {
    "ExecuteTime": {
     "end_time": "2020-12-24T18:38:54.236337Z",
     "start_time": "2020-12-24T18:38:54.233208Z"
    },
    "scrolled": true
   },
   "outputs": [
    {
     "data": {
      "text/plain": [
       "[22.839000000000002,\n",
       " 30.67599999999999,\n",
       " 16.317,\n",
       " 23.51,\n",
       " 16.819000000000006,\n",
       " 21.373999999999995,\n",
       " 19.358,\n",
       " 15.619999999999987,\n",
       " 21.09100000000001,\n",
       " 21.07300000000001,\n",
       " 20.046999999999997,\n",
       " 19.297000000000004,\n",
       " 8.610999999999992,\n",
       " 21.397999999999996,\n",
       " 19.378000000000004,\n",
       " 25.452999999999992,\n",
       " 19.187,\n",
       " 8.537999999999998,\n",
       " 46.13200000000003,\n",
       " 14.535999999999987,\n",
       " 24.728,\n",
       " 23.996000000000002,\n",
       " 14.508999999999991,\n",
       " 23.846999999999998,\n",
       " 14.363000000000001,\n",
       " 14.796,\n",
       " 21.125999999999998,\n",
       " 13.663,\n",
       " 19.534999999999997,\n",
       " 21.290000000000006,\n",
       " 19.448999999999998,\n",
       " 23.392999999999983,\n",
       " 29.300000000000008,\n",
       " 20.337999999999994,\n",
       " 14.595999999999993,\n",
       " 15.593999999999989,\n",
       " 33.834999999999994,\n",
       " 19.122999999999998,\n",
       " 20.91500000000001,\n",
       " 24.375999999999998,\n",
       " 19.28599999999999,\n",
       " 29.61,\n",
       " 46.10800000000002,\n",
       " 19.427999999999997,\n",
       " 22.652999999999988,\n",
       " 13.675999999999995,\n",
       " 15.034999999999993,\n",
       " 24.32099999999999,\n",
       " 18.689,\n",
       " 28.820999999999984,\n",
       " 21.107000000000014,\n",
       " 33.81099999999998,\n",
       " 16.501999999999995,\n",
       " 25.778999999999996,\n",
       " 44.922000000000004,\n",
       " 21.982,\n",
       " 15.416000000000002,\n",
       " 32.032000000000004,\n",
       " 22.596000000000004,\n",
       " 20.296,\n",
       " 25.610999999999994,\n",
       " 33.91600000000001,\n",
       " 28.134000000000004,\n",
       " 18.551000000000002,\n",
       " 26.744999999999987,\n",
       " 17.567999999999994,\n",
       " 13.991999999999988,\n",
       " 23.195000000000007,\n",
       " 29.021999999999984,\n",
       " 15.663,\n",
       " 21.073999999999998,\n",
       " 27.425999999999995,\n",
       " 10.059999999999995,\n",
       " 21.569000000000006,\n",
       " 21.952,\n",
       " 7.084000000000003,\n",
       " 19.905,\n",
       " 46.15400000000003,\n",
       " 11.273999999999996,\n",
       " 12.981000000000002,\n",
       " 21.288000000000007,\n",
       " 12.561999999999994,\n",
       " 19.561000000000007,\n",
       " 9.391999999999996,\n",
       " 20.759999999999994,\n",
       " 27.282999999999994,\n",
       " 15.382999999999997,\n",
       " 23.39899999999999,\n",
       " 23.627999999999993,\n",
       " 17.617000000000004,\n",
       " 21.68,\n",
       " 8.019,\n",
       " 19.61600000000001,\n",
       " 18.713999999999995,\n",
       " 22.591999999999995,\n",
       " 19.786,\n",
       " 41.733000000000004,\n",
       " 12.789999999999996,\n",
       " 12.726000000000013,\n",
       " 13.118999999999996,\n",
       " 20.603000000000005,\n",
       " 23.902]"
      ]
     },
     "execution_count": 18,
     "metadata": {},
     "output_type": "execute_result"
    }
   ],
   "source": [
    "y_pred"
   ]
  },
  {
   "cell_type": "markdown",
   "metadata": {},
   "source": [
    "    2. synthetic set prediction"
   ]
  },
  {
   "cell_type": "code",
   "execution_count": 19,
   "metadata": {
    "ExecuteTime": {
     "end_time": "2020-12-24T18:38:54.241353Z",
     "start_time": "2020-12-24T18:38:54.237366Z"
    }
   },
   "outputs": [
    {
     "data": {
      "text/plain": [
       "[15.446999999999996, 25.657999999999987, 12.889]"
      ]
     },
     "execution_count": 19,
     "metadata": {},
     "output_type": "execute_result"
    }
   ],
   "source": [
    "synthetic_y_pred"
   ]
  },
  {
   "cell_type": "markdown",
   "metadata": {},
   "source": [
    "**sanity check**"
   ]
  },
  {
   "cell_type": "code",
   "execution_count": 20,
   "metadata": {
    "ExecuteTime": {
     "end_time": "2020-12-24T18:38:54.263733Z",
     "start_time": "2020-12-24T18:38:54.242433Z"
    }
   },
   "outputs": [
    {
     "name": "stdout",
     "output_type": "stream",
     "text": [
      "using seriliezed test set with pickled model (also serilized) on an inference server\n",
      "gives the same predictions?\n",
      "True\n",
      "using seriliezed synthetic set with pickled model(also serilized) on an inference server\n",
      "gives the same predictions?\n",
      "True\n"
     ]
    }
   ],
   "source": [
    "print('using serialized test set with pickled model (also serialized) '\n",
    "      'on an inference server\\ngives the same predictions?\\n{}'. \\\n",
    "      format(np.all(loaded_forest.predict(loaded_test) == np.array(y_pred))))\n",
    "\n",
    "print('using serialized synthetic set with pickled model(also serialized) '\n",
    "      'on an inference server\\ngives the same predictions?\\n{}'. \\\n",
    "      format(np.all(loaded_forest.predict(synthetic_x) == np.array(synthetic_y_pred))))"
   ]
  },
  {
   "cell_type": "markdown",
   "metadata": {},
   "source": [
    "**COMMENT**\n",
    "\n",
    "okay just read Q5 and only now I understand (gotta admit that it wasn't 100% clear) that in a previous section you probably wanted me to write a manual query with a lot of keys and a lot of values and I kind of *hacked* it using one key **'json'**, and a string value that my inference server uses to extract the information from - but come on it is cooler that way, and the first method is very boring with a lot of unnecessary work, isn't it?"
   ]
  },
  {
   "cell_type": "markdown",
   "metadata": {},
   "source": [
    "## 5. Serve your model - using JSON files"
   ]
  },
  {
   "cell_type": "markdown",
   "metadata": {},
   "source": [
    "- Using `flask`, add code to your previous file in Pycharm **with inference code** to create the following prediction API (in addition to **Single prediction API** done above):\n",
    "- **Multiple prediction API** that receives input many observations to predict on as a json file in the body, and returns a json file with predictions.\n",
    "- Your **JSON** file format has to be efficient, clear and following JSON file syntax: \n",
    "  - JSON file is a nested structure of potentially multiple dictionaries and lists \n",
    "  - JSON file tip: Use lists, every member in the list can be a dictionary of all the features.  \n",
    "  - JSON file tip: Do not put indexes of predictions into the JSON files, indexes of predictions can be easily computed with Python code later \n",
    "  - JSON files are sometimes slightly verbose, but are extremely human readable.  Just looking at your JSON files of input and output, is it possible to understand what were the observations in input and what were the predictions in output?\n",
    "  - See https://www.json.org/json-en.html for JSON format\n",
    "- Think about efficiency of your code - your REST API might be called a huge number of times, with a huge number of observations every time.  Can part of the code be done only once?  Can you predict on everything together? Can you do less or cheaper data conversions?\n",
    "- Example of URL that will be used to predict: http://localhost:5000/car-price\n",
    "- Reference for working with JSONs in Flask: https://pythonise.com/series/learning-flask/working-with-json-in-flask\n",
    "- Do you need a GET or a POST type of REST API call? Does it change what you did in step 3?  Conceptually, would you say it makes sense to use GET or POST types for predictions?\n",
    "- Copy your **inference server** code also here for reference "
   ]
  },
  {
   "cell_type": "markdown",
   "metadata": {},
   "source": [
    "### 5)\n",
    "\n",
    "**Answers**\n",
    "\n",
    "1. it seems to that both the input and output JSONs are very clear regarding understanding the meanings\n",
    "2. the REST API can analyze several records at once. regarding fewer data conversions - I guess I can do without the pandas json normalize (but it is so convenient - don't think that parsing would be cheaper)\n",
    "3. from inference server side I'm using GET the costumer would use POST - conceptually it depends on who we are speaking about as a client it would make sense to use POST and wait for a reply as for the server it would make sense to use GET\n",
    "\n",
    "**now for copying more stuff**"
   ]
  },
  {
   "cell_type": "code",
   "execution_count": 21,
   "metadata": {
    "ExecuteTime": {
     "end_time": "2020-12-24T18:38:54.267711Z",
     "start_time": "2020-12-24T18:38:54.264851Z"
    }
   },
   "outputs": [
    {
     "data": {
      "text/plain": [
       "'\\n@app.route(\\'/predict\\')\\ndef predict():\\n    \"\"\"\\n    function for predicting house prices by client requests\\n    :return: predictions in JSON\\n    \"\"\"\\n    data = pd.json_normalize(json.loads(request.args.get(JSON_KEY)))\\n    prediction = {PREDICTION_KEY: model.predict(data).tolist()}\\n    return json.dumps(prediction)\\n\\n\\n@app.route(\\'/predict_json\\', methods=[\\'POST\\'])\\ndef predict_json():\\n    \"\"\"\\n    function for predicting house prices using client json input\\n    :return: predictions in JSON\\n    \"\"\"\\n    data = pd.json_normalize(json.loads(request.get_json()))\\n    prediction = {PREDICTION_KEY: model.predict(data).tolist()}\\n    return json.dumps(prediction)\\n\\n\\ndef main():\\n    app.run()\\n    pass\\n\\n\\nif __name__ == \\'__main__\\':\\n    main()\\n'"
      ]
     },
     "execution_count": 21,
     "metadata": {},
     "output_type": "execute_result"
    }
   ],
   "source": [
    "'''\n",
    "@app.route('/predict')\n",
    "def predict():\n",
    "    \"\"\"\n",
    "    function for predicting house prices by client requests\n",
    "    :return: predictions in JSON\n",
    "    \"\"\"\n",
    "    data = pd.json_normalize(json.loads(request.args.get(JSON_KEY)))\n",
    "    prediction = {PREDICTION_KEY: model.predict(data).tolist()}\n",
    "    return json.dumps(prediction)\n",
    "\n",
    "\n",
    "@app.route('/predict_json', methods=['POST'])\n",
    "def predict_json():\n",
    "    \"\"\"\n",
    "    function for predicting house prices using client json input\n",
    "    :return: predictions in JSON\n",
    "    \"\"\"\n",
    "    data = pd.json_normalize(json.loads(request.get_json()))\n",
    "    prediction = {PREDICTION_KEY: model.predict(data).tolist()}\n",
    "    return json.dumps(prediction)\n",
    "\n",
    "\n",
    "def main():\n",
    "    app.run()\n",
    "    pass\n",
    "\n",
    "\n",
    "if __name__ == '__main__':\n",
    "    main()\n",
    "'''"
   ]
  },
  {
   "cell_type": "markdown",
   "metadata": {},
   "source": [
    "Use Python `requests` module from here to make a prediction, and **print the input, and the output** of the prediction (or part of it if it's too large).  \n",
    "\n",
    "**Hint:** to pass a JSON file to the `requests` module, use `json` parameter of the `requests.post` API.\n",
    "\n",
    "**Warning**: don't get used to seeing it in a Jupyter notebook.  This code will usually run inside a **client application**"
   ]
  },
  {
   "cell_type": "markdown",
   "metadata": {},
   "source": [
    "**print a prediction input**\n",
    "    1. test set input - JSON serialized text "
   ]
  },
  {
   "cell_type": "code",
   "execution_count": 22,
   "metadata": {
    "ExecuteTime": {
     "end_time": "2020-12-24T18:38:54.273279Z",
     "start_time": "2020-12-24T18:38:54.269805Z"
    },
    "scrolled": true
   },
   "outputs": [
    {
     "data": {
      "text/plain": [
       "'[{\"CRIM\":0.09178,\"ZN\":0.0,\"INDUS\":4.05,\"CHAS\":0.0,\"NOX\":0.51,\"RM\":6.416,\"AGE\":84.1,\"DIS\":2.6463,\"RAD\":5.0,\"TAX\":296.0,\"PTRATIO\":16.6,\"B\":395.5,\"LSTAT\":9.04},{\"CRIM\":0.05644,\"ZN\":40.0,\"INDUS\":6.41,\"CHAS\":1.0,\"NOX\":0.447,\"RM\":6.758,\"AGE\":32.9,\"DIS\":4.0776,\"RAD\":4.0,\"TAX\":254.0,\"PTRATIO\":17.6,\"B\":396.9,\"LSTAT\":3.53},{\"CRIM\":0.10574,\"ZN\":0.0,\"INDUS\":27.74,\"CHAS\":0.0,\"NOX\":0.609,\"RM\":5.983,\"AGE\":98.8,\"DIS\":1.8681,\"RAD\":4.0,\"TAX\":711.0,\"PTRATIO\":20.1,\"B\":390.11,\"LSTAT\":18.07},{\"CRIM\":0.09164,\"ZN\":0.0,\"INDUS\":10.81,\"CHAS\":0.0,\"NOX\":0.413,\"RM\":6.065,\"AGE\":7.8,\"DIS\":5.2873,\"RAD\":4.0,\"TAX\":305.0,\"PTRATIO\":19.2,\"B\":390.91,\"LSTAT\":5.52},{\"CRIM\":5.09017,\"ZN\":0.0,\"INDUS\":18.1,\"CHAS\":0.0,\"NOX\":0.713,\"RM\":6.297,\"AGE\":91.8,\"DIS\":2.3682,\"RAD\":24.0,\"TAX\":666.0,\"PTRATIO\":20.2,\"B\":385.09,\"LSTAT\":17.27},{\"CRIM\":0.10153,\"ZN\":0.0,\"INDUS\":12.83,\"CHAS\":0.0,\"NOX\":0.437,\"RM\":6.279,\"AGE\":74.5,\"DIS\":4.0522,\"RAD\":5.0,\"TAX\":398.0,\"PTRATIO\":18.7,\"B\":373.66,\"LSTAT\":11.97},{\"CRIM\":0.31827,\"ZN\":0.0,\"INDUS\":9.9,\"CHAS\":0.0,\"NOX\":0.544,\"RM\":5.914,\"AGE\":83.2,\"DIS\":3.9986,\"RAD\":4.0,\"TAX\":304.0,\"PTRATIO\":18.4,\"B\":390.7,\"LSTAT\":18.33},{\"CRIM\":0.2909,\"ZN\":0.0,\"INDUS\":21.89,\"CHAS\":0.0,\"NOX\":0.624,\"RM\":6.174,\"AGE\":93.6,\"DIS\":1.6119,\"RAD\":4.0,\"TAX\":437.0,\"PTRATIO\":21.2,\"B\":388.08,\"LSTAT\":24.16},{\"CRIM\":4.03841,\"ZN\":0.0,\"INDUS\":18.1,\"CHAS\":0.0,\"NOX\":0.532,\"RM\":6.229,\"AGE\":90.7,\"DIS\":3.0993,\"RAD\":24.0,\"TAX\":666.0,\"PTRATIO\":20.2,\"B\":395.33,\"LSTAT\":12.87},{\"CRIM\":0.22438,\"ZN\":0.0,\"INDUS\":9.69,\"CHAS\":0.0,\"NOX\":0.585,\"RM\":6.027,\"AGE\":79.7,\"DIS\":2.4982,\"RAD\":6.0,\"TAX\":391.0,\"PTRATIO\":19.2,\"B\":396.9,\"LSTAT\":14.33},{\"CRIM\":0.11069,\"ZN\":0.0,\"INDUS\":13.89,\"CHAS\":1.0,\"NOX\":0.55,\"RM\":5.951,\"AGE\":93.8,\"DIS\":2.8893,\"RAD\":5.0,\"TAX\":276.0,\"PTRATIO\":16.4,\"B\":396.9,\"LSTAT\":17.92},{\"CRIM\":0.17004,\"ZN\":12.5,\"INDUS\":7.87,\"CHAS\":0.0,\"NOX\":0.524,\"RM\":6.004,\"AGE\":85.9,\"DIS\":6.5921,\"RAD\":5.0,\"TAX\":311.0,\"PTRATIO\":15.2,\"B\":386.71,\"LSTAT\":17.1},{\"CRIM\":45.7461,\"ZN\":0.0,\"INDUS\":18.1,\"CHAS\":0.0,\"NOX\":0.693,\"RM\":4.519,\"AGE\":100.0,\"DIS\":1.6582,\"RAD\":24.0,\"TAX\":666.0,\"PTRATIO\":20.2,\"B\":88.27,\"LSTAT\":36.98},{\"CRIM\":0.05646,\"ZN\":0.0,\"INDUS\":12.83,\"CHAS\":0.0,\"NOX\":0.437,\"RM\":6.232,\"AGE\":53.7,\"DIS\":5.0141,\"RAD\":5.0,\"TAX\":398.0,\"PTRATIO\":18.7,\"B\":386.4,\"LSTAT\":12.34},{\"CRIM\":0.28392,\"ZN\":0.0,\"INDUS\":7.38,\"CHAS\":0.0,\"NOX\":0.493,\"RM\":5.708,\"AGE\":74.3,\"DIS\":4.7211,\"RAD\":5.0,\"TAX\":287.0,\"PTRATIO\":19.6,\"B\":391.13,\"LSTAT\":11.74},{\"CRIM\":4.64689,\"ZN\":0.0,\"INDUS\":18.1,\"CHAS\":0.0,\"NOX\":0.614,\"RM\":6.98,\"AGE\":67.6,\"DIS\":2.5329,\"RAD\":24.0,\"TAX\":666.0,\"PTRATIO\":20.2,\"B\":374.68,\"LSTAT\":11.66},{\"CRIM\":0.09849,\"ZN\":0.0,\"INDUS\":25.65,\"CHAS\":0.0,\"NOX\":0.581,\"RM\":5.879,\"AGE\":95.8,\"DIS\":2.0063,\"RAD\":2.0,\"TAX\":188.0,\"PTRATIO\":19.1,\"B\":379.38,\"LSTAT\":17.58},{\"CRIM\":14.3337,\"ZN\":0.0,\"INDUS\":18.1,\"CHAS\":0.0,\"NOX\":0.7,\"RM\":4.88,\"AGE\":100.0,\"DIS\":1.5895,\"RAD\":24.0,\"TAX\":666.0,\"PTRATIO\":20.2,\"B\":372.92,\"LSTAT\":30.62},{\"CRIM\":0.01381,\"ZN\":80.0,\"INDUS\":0.46,\"CHAS\":0.0,\"NOX\":0.422,\"RM\":7.875,\"AGE\":32.0,\"DIS\":5.6484,\"RAD\":4.0,\"TAX\":255.0,\"PTRATIO\":14.4,\"B\":394.23,\"LSTAT\":2.97},{\"CRIM\":9.32909,\"ZN\":0.0,\"INDUS\":18.1,\"CHAS\":0.0,\"NOX\":0.713,\"RM\":6.185,\"AGE\":98.7,\"DIS\":2.2616,\"RAD\":24.0,\"TAX\":666.0,\"PTRATIO\":20.2,\"B\":396.9,\"LSTAT\":18.13},{\"CRIM\":0.16211,\"ZN\":20.0,\"INDUS\":6.96,\"CHAS\":0.0,\"NOX\":0.464,\"RM\":6.24,\"AGE\":16.3,\"DIS\":4.429,\"RAD\":3.0,\"TAX\":223.0,\"PTRATIO\":18.6,\"B\":396.9,\"LSTAT\":6.59},{\"CRIM\":0.07978,\"ZN\":40.0,\"INDUS\":6.41,\"CHAS\":0.0,\"NOX\":0.447,\"RM\":6.482,\"AGE\":32.1,\"DIS\":4.1403,\"RAD\":4.0,\"TAX\":254.0,\"PTRATIO\":17.6,\"B\":396.9,\"LSTAT\":7.19},{\"CRIM\":1.13081,\"ZN\":0.0,\"INDUS\":8.14,\"CHAS\":0.0,\"NOX\":0.538,\"RM\":5.713,\"AGE\":94.1,\"DIS\":4.233,\"RAD\":4.0,\"TAX\":307.0,\"PTRATIO\":21.0,\"B\":360.17,\"LSTAT\":22.6},{\"CRIM\":0.06263,\"ZN\":0.0,\"INDUS\":11.93,\"CHAS\":0.0,\"NOX\":0.573,\"RM\":6.593,\"AGE\":69.1,\"DIS\":2.4786,\"RAD\":1.0,\"TAX\":273.0,\"PTRATIO\":21.0,\"B\":391.99,\"LSTAT\":9.67},{\"CRIM\":7.02259,\"ZN\":0.0,\"INDUS\":18.1,\"CHAS\":0.0,\"NOX\":0.718,\"RM\":6.006,\"AGE\":95.3,\"DIS\":1.8746,\"RAD\":24.0,\"TAX\":666.0,\"PTRATIO\":20.2,\"B\":319.98,\"LSTAT\":15.7},{\"CRIM\":8.05579,\"ZN\":0.0,\"INDUS\":18.1,\"CHAS\":0.0,\"NOX\":0.584,\"RM\":5.427,\"AGE\":95.4,\"DIS\":2.4298,\"RAD\":24.0,\"TAX\":666.0,\"PTRATIO\":20.2,\"B\":352.58,\"LSTAT\":18.14},{\"CRIM\":0.08387,\"ZN\":0.0,\"INDUS\":12.83,\"CHAS\":0.0,\"NOX\":0.437,\"RM\":5.874,\"AGE\":36.6,\"DIS\":4.5026,\"RAD\":5.0,\"TAX\":398.0,\"PTRATIO\":18.7,\"B\":396.06,\"LSTAT\":9.1},{\"CRIM\":9.51363,\"ZN\":0.0,\"INDUS\":18.1,\"CHAS\":0.0,\"NOX\":0.713,\"RM\":6.728,\"AGE\":94.1,\"DIS\":2.4961,\"RAD\":24.0,\"TAX\":666.0,\"PTRATIO\":20.2,\"B\":6.68,\"LSTAT\":18.71},{\"CRIM\":0.17446,\"ZN\":0.0,\"INDUS\":10.59,\"CHAS\":1.0,\"NOX\":0.489,\"RM\":5.96,\"AGE\":92.1,\"DIS\":3.8771,\"RAD\":4.0,\"TAX\":277.0,\"PTRATIO\":18.6,\"B\":393.25,\"LSTAT\":17.27},{\"CRIM\":0.26838,\"ZN\":0.0,\"INDUS\":9.69,\"CHAS\":0.0,\"NOX\":0.585,\"RM\":5.794,\"AGE\":70.6,\"DIS\":2.8927,\"RAD\":6.0,\"TAX\":391.0,\"PTRATIO\":19.2,\"B\":396.9,\"LSTAT\":14.1},{\"CRIM\":0.13914,\"ZN\":0.0,\"INDUS\":4.05,\"CHAS\":0.0,\"NOX\":0.51,\"RM\":5.572,\"AGE\":88.5,\"DIS\":2.5961,\"RAD\":5.0,\"TAX\":296.0,\"PTRATIO\":16.6,\"B\":396.9,\"LSTAT\":14.69},{\"CRIM\":0.1676,\"ZN\":0.0,\"INDUS\":7.38,\"CHAS\":0.0,\"NOX\":0.493,\"RM\":6.426,\"AGE\":52.3,\"DIS\":4.5404,\"RAD\":5.0,\"TAX\":287.0,\"PTRATIO\":19.6,\"B\":396.9,\"LSTAT\":7.2},{\"CRIM\":19.6091,\"ZN\":0.0,\"INDUS\":18.1,\"CHAS\":0.0,\"NOX\":0.671,\"RM\":7.313,\"AGE\":97.9,\"DIS\":1.3163,\"RAD\":24.0,\"TAX\":666.0,\"PTRATIO\":20.2,\"B\":396.9,\"LSTAT\":13.44},{\"CRIM\":3.67822,\"ZN\":0.0,\"INDUS\":18.1,\"CHAS\":0.0,\"NOX\":0.77,\"RM\":5.362,\"AGE\":96.2,\"DIS\":2.1036,\"RAD\":24.0,\"TAX\":666.0,\"PTRATIO\":20.2,\"B\":380.79,\"LSTAT\":10.19},{\"CRIM\":4.42228,\"ZN\":0.0,\"INDUS\":18.1,\"CHAS\":0.0,\"NOX\":0.584,\"RM\":6.003,\"AGE\":94.5,\"DIS\":2.5403,\"RAD\":24.0,\"TAX\":666.0,\"PTRATIO\":20.2,\"B\":331.29,\"LSTAT\":21.32},{\"CRIM\":2.14918,\"ZN\":0.0,\"INDUS\":19.58,\"CHAS\":0.0,\"NOX\":0.871,\"RM\":5.709,\"AGE\":98.5,\"DIS\":1.6232,\"RAD\":5.0,\"TAX\":403.0,\"PTRATIO\":14.7,\"B\":261.95,\"LSTAT\":15.79},{\"CRIM\":0.02729,\"ZN\":0.0,\"INDUS\":7.07,\"CHAS\":0.0,\"NOX\":0.469,\"RM\":7.185,\"AGE\":61.1,\"DIS\":4.9671,\"RAD\":2.0,\"TAX\":242.0,\"PTRATIO\":17.8,\"B\":392.83,\"LSTAT\":4.03},{\"CRIM\":0.03427,\"ZN\":0.0,\"INDUS\":5.19,\"CHAS\":0.0,\"NOX\":0.515,\"RM\":5.869,\"AGE\":46.3,\"DIS\":5.2311,\"RAD\":5.0,\"TAX\":224.0,\"PTRATIO\":20.2,\"B\":396.9,\"LSTAT\":9.8},{\"CRIM\":0.13587,\"ZN\":0.0,\"INDUS\":10.59,\"CHAS\":1.0,\"NOX\":0.489,\"RM\":6.064,\"AGE\":59.1,\"DIS\":4.2392,\"RAD\":4.0,\"TAX\":277.0,\"PTRATIO\":18.6,\"B\":381.32,\"LSTAT\":14.66},{\"CRIM\":0.19539,\"ZN\":0.0,\"INDUS\":10.81,\"CHAS\":0.0,\"NOX\":0.413,\"RM\":6.245,\"AGE\":6.2,\"DIS\":5.2873,\"RAD\":4.0,\"TAX\":305.0,\"PTRATIO\":19.2,\"B\":377.17,\"LSTAT\":7.54},{\"CRIM\":0.2896,\"ZN\":0.0,\"INDUS\":9.69,\"CHAS\":0.0,\"NOX\":0.585,\"RM\":5.39,\"AGE\":72.9,\"DIS\":2.7986,\"RAD\":6.0,\"TAX\":391.0,\"PTRATIO\":19.2,\"B\":396.9,\"LSTAT\":21.14},{\"CRIM\":0.04932,\"ZN\":33.0,\"INDUS\":2.18,\"CHAS\":0.0,\"NOX\":0.472,\"RM\":6.849,\"AGE\":70.3,\"DIS\":3.1827,\"RAD\":7.0,\"TAX\":222.0,\"PTRATIO\":18.4,\"B\":396.9,\"LSTAT\":7.53},{\"CRIM\":0.02009,\"ZN\":95.0,\"INDUS\":2.68,\"CHAS\":0.0,\"NOX\":0.4161,\"RM\":8.034,\"AGE\":31.9,\"DIS\":5.118,\"RAD\":4.0,\"TAX\":224.0,\"PTRATIO\":14.7,\"B\":390.55,\"LSTAT\":2.88},{\"CRIM\":0.13554,\"ZN\":12.5,\"INDUS\":6.07,\"CHAS\":0.0,\"NOX\":0.409,\"RM\":5.594,\"AGE\":36.8,\"DIS\":6.498,\"RAD\":4.0,\"TAX\":345.0,\"PTRATIO\":18.9,\"B\":396.9,\"LSTAT\":13.09},{\"CRIM\":0.04684,\"ZN\":0.0,\"INDUS\":3.41,\"CHAS\":0.0,\"NOX\":0.489,\"RM\":6.417,\"AGE\":66.1,\"DIS\":3.0923,\"RAD\":2.0,\"TAX\":270.0,\"PTRATIO\":17.8,\"B\":392.18,\"LSTAT\":8.81},{\"CRIM\":6.96215,\"ZN\":0.0,\"INDUS\":18.1,\"CHAS\":0.0,\"NOX\":0.7,\"RM\":5.713,\"AGE\":97.0,\"DIS\":1.9265,\"RAD\":24.0,\"TAX\":666.0,\"PTRATIO\":20.2,\"B\":394.43,\"LSTAT\":17.11},{\"CRIM\":1.15172,\"ZN\":0.0,\"INDUS\":8.14,\"CHAS\":0.0,\"NOX\":0.538,\"RM\":5.701,\"AGE\":95.0,\"DIS\":3.7872,\"RAD\":4.0,\"TAX\":307.0,\"PTRATIO\":21.0,\"B\":358.77,\"LSTAT\":18.35},{\"CRIM\":0.08826,\"ZN\":0.0,\"INDUS\":10.81,\"CHAS\":0.0,\"NOX\":0.413,\"RM\":6.417,\"AGE\":6.6,\"DIS\":5.2873,\"RAD\":4.0,\"TAX\":305.0,\"PTRATIO\":19.2,\"B\":383.73,\"LSTAT\":6.72},{\"CRIM\":4.34879,\"ZN\":0.0,\"INDUS\":18.1,\"CHAS\":0.0,\"NOX\":0.58,\"RM\":6.167,\"AGE\":84.0,\"DIS\":3.0334,\"RAD\":24.0,\"TAX\":666.0,\"PTRATIO\":20.2,\"B\":396.9,\"LSTAT\":16.29},{\"CRIM\":0.00632,\"ZN\":18.0,\"INDUS\":2.31,\"CHAS\":0.0,\"NOX\":0.538,\"RM\":6.575,\"AGE\":65.2,\"DIS\":4.09,\"RAD\":1.0,\"TAX\":296.0,\"PTRATIO\":15.3,\"B\":396.9,\"LSTAT\":4.98},{\"CRIM\":0.11747,\"ZN\":12.5,\"INDUS\":7.87,\"CHAS\":0.0,\"NOX\":0.524,\"RM\":6.009,\"AGE\":82.9,\"DIS\":6.2267,\"RAD\":5.0,\"TAX\":311.0,\"PTRATIO\":15.2,\"B\":396.9,\"LSTAT\":13.27},{\"CRIM\":0.03705,\"ZN\":20.0,\"INDUS\":3.33,\"CHAS\":0.0,\"NOX\":0.4429,\"RM\":6.968,\"AGE\":37.2,\"DIS\":5.2447,\"RAD\":5.0,\"TAX\":216.0,\"PTRATIO\":14.9,\"B\":392.23,\"LSTAT\":4.59},{\"CRIM\":1.23247,\"ZN\":0.0,\"INDUS\":8.14,\"CHAS\":0.0,\"NOX\":0.538,\"RM\":6.142,\"AGE\":91.7,\"DIS\":3.9769,\"RAD\":4.0,\"TAX\":307.0,\"PTRATIO\":21.0,\"B\":396.9,\"LSTAT\":18.72},{\"CRIM\":0.11432,\"ZN\":0.0,\"INDUS\":8.56,\"CHAS\":0.0,\"NOX\":0.52,\"RM\":6.781,\"AGE\":71.3,\"DIS\":2.8561,\"RAD\":5.0,\"TAX\":384.0,\"PTRATIO\":20.9,\"B\":395.58,\"LSTAT\":7.67},{\"CRIM\":0.5405,\"ZN\":20.0,\"INDUS\":3.97,\"CHAS\":0.0,\"NOX\":0.575,\"RM\":7.47,\"AGE\":52.6,\"DIS\":2.872,\"RAD\":5.0,\"TAX\":264.0,\"PTRATIO\":13.0,\"B\":390.3,\"LSTAT\":3.16},{\"CRIM\":3.67367,\"ZN\":0.0,\"INDUS\":18.1,\"CHAS\":0.0,\"NOX\":0.583,\"RM\":6.312,\"AGE\":51.9,\"DIS\":3.9917,\"RAD\":24.0,\"TAX\":666.0,\"PTRATIO\":20.2,\"B\":388.62,\"LSTAT\":10.58},{\"CRIM\":5.66637,\"ZN\":0.0,\"INDUS\":18.1,\"CHAS\":0.0,\"NOX\":0.74,\"RM\":6.219,\"AGE\":100.0,\"DIS\":2.0048,\"RAD\":24.0,\"TAX\":666.0,\"PTRATIO\":20.2,\"B\":395.69,\"LSTAT\":16.59},{\"CRIM\":0.03502,\"ZN\":80.0,\"INDUS\":4.95,\"CHAS\":0.0,\"NOX\":0.411,\"RM\":6.861,\"AGE\":27.9,\"DIS\":5.1167,\"RAD\":4.0,\"TAX\":245.0,\"PTRATIO\":19.2,\"B\":396.9,\"LSTAT\":3.33},{\"CRIM\":0.05059,\"ZN\":0.0,\"INDUS\":4.49,\"CHAS\":0.0,\"NOX\":0.449,\"RM\":6.389,\"AGE\":48.0,\"DIS\":4.7794,\"RAD\":3.0,\"TAX\":247.0,\"PTRATIO\":18.5,\"B\":396.9,\"LSTAT\":9.62},{\"CRIM\":0.19133,\"ZN\":22.0,\"INDUS\":5.86,\"CHAS\":0.0,\"NOX\":0.431,\"RM\":5.605,\"AGE\":70.2,\"DIS\":7.9549,\"RAD\":7.0,\"TAX\":330.0,\"PTRATIO\":19.1,\"B\":389.13,\"LSTAT\":18.46},{\"CRIM\":0.1265,\"ZN\":25.0,\"INDUS\":5.13,\"CHAS\":0.0,\"NOX\":0.453,\"RM\":6.762,\"AGE\":43.4,\"DIS\":7.9809,\"RAD\":8.0,\"TAX\":284.0,\"PTRATIO\":19.7,\"B\":395.58,\"LSTAT\":9.5},{\"CRIM\":0.01311,\"ZN\":90.0,\"INDUS\":1.22,\"CHAS\":0.0,\"NOX\":0.403,\"RM\":7.249,\"AGE\":21.9,\"DIS\":8.6966,\"RAD\":5.0,\"TAX\":226.0,\"PTRATIO\":17.9,\"B\":395.93,\"LSTAT\":4.81},{\"CRIM\":0.44178,\"ZN\":0.0,\"INDUS\":6.2,\"CHAS\":0.0,\"NOX\":0.504,\"RM\":6.552,\"AGE\":21.4,\"DIS\":3.3751,\"RAD\":8.0,\"TAX\":307.0,\"PTRATIO\":17.4,\"B\":380.34,\"LSTAT\":3.76},{\"CRIM\":0.80271,\"ZN\":0.0,\"INDUS\":8.14,\"CHAS\":0.0,\"NOX\":0.538,\"RM\":5.456,\"AGE\":36.6,\"DIS\":3.7965,\"RAD\":4.0,\"TAX\":307.0,\"PTRATIO\":21.0,\"B\":288.99,\"LSTAT\":11.69},{\"CRIM\":0.0795,\"ZN\":60.0,\"INDUS\":1.69,\"CHAS\":0.0,\"NOX\":0.411,\"RM\":6.579,\"AGE\":35.9,\"DIS\":10.7103,\"RAD\":4.0,\"TAX\":411.0,\"PTRATIO\":18.3,\"B\":370.78,\"LSTAT\":5.49},{\"CRIM\":0.43571,\"ZN\":0.0,\"INDUS\":10.59,\"CHAS\":1.0,\"NOX\":0.489,\"RM\":5.344,\"AGE\":100.0,\"DIS\":3.875,\"RAD\":4.0,\"TAX\":277.0,\"PTRATIO\":18.6,\"B\":396.9,\"LSTAT\":23.09},{\"CRIM\":8.71675,\"ZN\":0.0,\"INDUS\":18.1,\"CHAS\":0.0,\"NOX\":0.693,\"RM\":6.471,\"AGE\":98.8,\"DIS\":1.7257,\"RAD\":24.0,\"TAX\":666.0,\"PTRATIO\":20.2,\"B\":391.98,\"LSTAT\":17.12},{\"CRIM\":0.03659,\"ZN\":25.0,\"INDUS\":4.86,\"CHAS\":0.0,\"NOX\":0.426,\"RM\":6.302,\"AGE\":32.2,\"DIS\":5.4007,\"RAD\":4.0,\"TAX\":281.0,\"PTRATIO\":19.0,\"B\":396.9,\"LSTAT\":6.72},{\"CRIM\":0.02763,\"ZN\":75.0,\"INDUS\":2.95,\"CHAS\":0.0,\"NOX\":0.428,\"RM\":6.595,\"AGE\":21.8,\"DIS\":5.4011,\"RAD\":3.0,\"TAX\":252.0,\"PTRATIO\":18.3,\"B\":395.63,\"LSTAT\":4.32},{\"CRIM\":4.66883,\"ZN\":0.0,\"INDUS\":18.1,\"CHAS\":0.0,\"NOX\":0.713,\"RM\":5.976,\"AGE\":87.9,\"DIS\":2.5806,\"RAD\":24.0,\"TAX\":666.0,\"PTRATIO\":20.2,\"B\":10.48,\"LSTAT\":19.01},{\"CRIM\":0.18836,\"ZN\":0.0,\"INDUS\":6.91,\"CHAS\":0.0,\"NOX\":0.448,\"RM\":5.786,\"AGE\":33.3,\"DIS\":5.1004,\"RAD\":3.0,\"TAX\":233.0,\"PTRATIO\":17.9,\"B\":396.9,\"LSTAT\":14.15},{\"CRIM\":5.70818,\"ZN\":0.0,\"INDUS\":18.1,\"CHAS\":0.0,\"NOX\":0.532,\"RM\":6.75,\"AGE\":74.9,\"DIS\":3.3317,\"RAD\":24.0,\"TAX\":666.0,\"PTRATIO\":20.2,\"B\":393.07,\"LSTAT\":7.74},{\"CRIM\":12.8023,\"ZN\":0.0,\"INDUS\":18.1,\"CHAS\":0.0,\"NOX\":0.74,\"RM\":5.854,\"AGE\":96.6,\"DIS\":1.8956,\"RAD\":24.0,\"TAX\":666.0,\"PTRATIO\":20.2,\"B\":240.52,\"LSTAT\":23.79},{\"CRIM\":0.10659,\"ZN\":80.0,\"INDUS\":1.91,\"CHAS\":0.0,\"NOX\":0.413,\"RM\":5.936,\"AGE\":19.5,\"DIS\":10.5857,\"RAD\":4.0,\"TAX\":334.0,\"PTRATIO\":22.0,\"B\":376.04,\"LSTAT\":5.57},{\"CRIM\":0.08707,\"ZN\":0.0,\"INDUS\":12.83,\"CHAS\":0.0,\"NOX\":0.437,\"RM\":6.14,\"AGE\":45.8,\"DIS\":4.0905,\"RAD\":5.0,\"TAX\":398.0,\"PTRATIO\":18.7,\"B\":386.96,\"LSTAT\":10.27},{\"CRIM\":38.3518,\"ZN\":0.0,\"INDUS\":18.1,\"CHAS\":0.0,\"NOX\":0.693,\"RM\":5.453,\"AGE\":100.0,\"DIS\":1.4896,\"RAD\":24.0,\"TAX\":666.0,\"PTRATIO\":20.2,\"B\":396.9,\"LSTAT\":30.59},{\"CRIM\":0.1396,\"ZN\":0.0,\"INDUS\":8.56,\"CHAS\":0.0,\"NOX\":0.52,\"RM\":6.167,\"AGE\":90.0,\"DIS\":2.421,\"RAD\":5.0,\"TAX\":384.0,\"PTRATIO\":20.9,\"B\":392.69,\"LSTAT\":12.33},{\"CRIM\":0.0351,\"ZN\":95.0,\"INDUS\":2.68,\"CHAS\":0.0,\"NOX\":0.4161,\"RM\":7.853,\"AGE\":33.2,\"DIS\":5.118,\"RAD\":4.0,\"TAX\":224.0,\"PTRATIO\":14.7,\"B\":392.78,\"LSTAT\":3.81},{\"CRIM\":15.8744,\"ZN\":0.0,\"INDUS\":18.1,\"CHAS\":0.0,\"NOX\":0.671,\"RM\":6.545,\"AGE\":99.1,\"DIS\":1.5192,\"RAD\":24.0,\"TAX\":666.0,\"PTRATIO\":20.2,\"B\":396.9,\"LSTAT\":21.08},{\"CRIM\":0.18337,\"ZN\":0.0,\"INDUS\":27.74,\"CHAS\":0.0,\"NOX\":0.609,\"RM\":5.414,\"AGE\":98.3,\"DIS\":1.7554,\"RAD\":4.0,\"TAX\":711.0,\"PTRATIO\":20.1,\"B\":344.05,\"LSTAT\":23.97},{\"CRIM\":0.12816,\"ZN\":12.5,\"INDUS\":6.07,\"CHAS\":0.0,\"NOX\":0.409,\"RM\":5.885,\"AGE\":33.0,\"DIS\":6.498,\"RAD\":4.0,\"TAX\":345.0,\"PTRATIO\":18.9,\"B\":396.9,\"LSTAT\":8.79},{\"CRIM\":7.40389,\"ZN\":0.0,\"INDUS\":18.1,\"CHAS\":0.0,\"NOX\":0.597,\"RM\":5.617,\"AGE\":97.9,\"DIS\":1.4547,\"RAD\":24.0,\"TAX\":666.0,\"PTRATIO\":20.2,\"B\":314.64,\"LSTAT\":26.4},{\"CRIM\":0.03548,\"ZN\":80.0,\"INDUS\":3.64,\"CHAS\":0.0,\"NOX\":0.392,\"RM\":5.876,\"AGE\":19.1,\"DIS\":9.2203,\"RAD\":1.0,\"TAX\":315.0,\"PTRATIO\":16.4,\"B\":395.18,\"LSTAT\":9.25},{\"CRIM\":11.5779,\"ZN\":0.0,\"INDUS\":18.1,\"CHAS\":0.0,\"NOX\":0.7,\"RM\":5.036,\"AGE\":97.0,\"DIS\":1.77,\"RAD\":24.0,\"TAX\":666.0,\"PTRATIO\":20.2,\"B\":396.9,\"LSTAT\":25.68},{\"CRIM\":0.26169,\"ZN\":0.0,\"INDUS\":9.9,\"CHAS\":0.0,\"NOX\":0.544,\"RM\":6.023,\"AGE\":90.4,\"DIS\":2.834,\"RAD\":4.0,\"TAX\":304.0,\"PTRATIO\":18.4,\"B\":396.3,\"LSTAT\":11.72},{\"CRIM\":0.44791,\"ZN\":0.0,\"INDUS\":6.2,\"CHAS\":1.0,\"NOX\":0.507,\"RM\":6.726,\"AGE\":66.5,\"DIS\":3.6519,\"RAD\":8.0,\"TAX\":307.0,\"PTRATIO\":17.4,\"B\":360.2,\"LSTAT\":8.05},{\"CRIM\":4.81213,\"ZN\":0.0,\"INDUS\":18.1,\"CHAS\":0.0,\"NOX\":0.713,\"RM\":6.701,\"AGE\":90.0,\"DIS\":2.5975,\"RAD\":24.0,\"TAX\":666.0,\"PTRATIO\":20.2,\"B\":255.23,\"LSTAT\":16.42},{\"CRIM\":0.34109,\"ZN\":0.0,\"INDUS\":7.38,\"CHAS\":0.0,\"NOX\":0.493,\"RM\":6.415,\"AGE\":40.1,\"DIS\":4.7211,\"RAD\":5.0,\"TAX\":287.0,\"PTRATIO\":19.6,\"B\":396.9,\"LSTAT\":6.12},{\"CRIM\":0.02875,\"ZN\":28.0,\"INDUS\":15.04,\"CHAS\":0.0,\"NOX\":0.464,\"RM\":6.211,\"AGE\":28.9,\"DIS\":3.6659,\"RAD\":4.0,\"TAX\":270.0,\"PTRATIO\":18.2,\"B\":396.33,\"LSTAT\":6.21},{\"CRIM\":0.35233,\"ZN\":0.0,\"INDUS\":21.89,\"CHAS\":0.0,\"NOX\":0.624,\"RM\":6.454,\"AGE\":98.4,\"DIS\":1.8498,\"RAD\":4.0,\"TAX\":437.0,\"PTRATIO\":21.2,\"B\":394.08,\"LSTAT\":14.59},{\"CRIM\":0.07022,\"ZN\":0.0,\"INDUS\":4.05,\"CHAS\":0.0,\"NOX\":0.51,\"RM\":6.02,\"AGE\":47.2,\"DIS\":3.5549,\"RAD\":5.0,\"TAX\":296.0,\"PTRATIO\":16.6,\"B\":393.23,\"LSTAT\":10.11},{\"CRIM\":25.9406,\"ZN\":0.0,\"INDUS\":18.1,\"CHAS\":0.0,\"NOX\":0.679,\"RM\":5.304,\"AGE\":89.1,\"DIS\":1.6475,\"RAD\":24.0,\"TAX\":666.0,\"PTRATIO\":20.2,\"B\":127.36,\"LSTAT\":26.64},{\"CRIM\":1.19294,\"ZN\":0.0,\"INDUS\":21.89,\"CHAS\":0.0,\"NOX\":0.624,\"RM\":6.326,\"AGE\":97.7,\"DIS\":2.271,\"RAD\":4.0,\"TAX\":437.0,\"PTRATIO\":21.2,\"B\":396.9,\"LSTAT\":12.26},{\"CRIM\":0.06162,\"ZN\":0.0,\"INDUS\":4.39,\"CHAS\":0.0,\"NOX\":0.442,\"RM\":5.898,\"AGE\":52.3,\"DIS\":8.0136,\"RAD\":3.0,\"TAX\":352.0,\"PTRATIO\":18.8,\"B\":364.61,\"LSTAT\":12.67},{\"CRIM\":4.55587,\"ZN\":0.0,\"INDUS\":18.1,\"CHAS\":0.0,\"NOX\":0.718,\"RM\":3.561,\"AGE\":87.9,\"DIS\":1.6132,\"RAD\":24.0,\"TAX\":666.0,\"PTRATIO\":20.2,\"B\":354.7,\"LSTAT\":7.12},{\"CRIM\":0.59005,\"ZN\":0.0,\"INDUS\":21.89,\"CHAS\":0.0,\"NOX\":0.624,\"RM\":6.372,\"AGE\":97.9,\"DIS\":2.3274,\"RAD\":4.0,\"TAX\":437.0,\"PTRATIO\":21.2,\"B\":385.76,\"LSTAT\":11.12},{\"CRIM\":9.2323,\"ZN\":0.0,\"INDUS\":18.1,\"CHAS\":0.0,\"NOX\":0.631,\"RM\":6.216,\"AGE\":100.0,\"DIS\":1.1691,\"RAD\":24.0,\"TAX\":666.0,\"PTRATIO\":20.2,\"B\":366.15,\"LSTAT\":9.53},{\"CRIM\":18.811,\"ZN\":0.0,\"INDUS\":18.1,\"CHAS\":0.0,\"NOX\":0.597,\"RM\":4.628,\"AGE\":100.0,\"DIS\":1.5539,\"RAD\":24.0,\"TAX\":666.0,\"PTRATIO\":20.2,\"B\":28.79,\"LSTAT\":34.37},{\"CRIM\":14.4208,\"ZN\":0.0,\"INDUS\":18.1,\"CHAS\":0.0,\"NOX\":0.74,\"RM\":6.461,\"AGE\":93.3,\"DIS\":2.0026,\"RAD\":24.0,\"TAX\":666.0,\"PTRATIO\":20.2,\"B\":27.49,\"LSTAT\":18.05},{\"CRIM\":14.0507,\"ZN\":0.0,\"INDUS\":18.1,\"CHAS\":0.0,\"NOX\":0.597,\"RM\":6.657,\"AGE\":100.0,\"DIS\":1.5275,\"RAD\":24.0,\"TAX\":666.0,\"PTRATIO\":20.2,\"B\":35.05,\"LSTAT\":21.22},{\"CRIM\":0.05188,\"ZN\":0.0,\"INDUS\":4.49,\"CHAS\":0.0,\"NOX\":0.449,\"RM\":6.015,\"AGE\":45.1,\"DIS\":4.4272,\"RAD\":3.0,\"TAX\":247.0,\"PTRATIO\":18.5,\"B\":395.99,\"LSTAT\":12.86},{\"CRIM\":0.09512,\"ZN\":0.0,\"INDUS\":12.83,\"CHAS\":0.0,\"NOX\":0.437,\"RM\":6.286,\"AGE\":45.0,\"DIS\":4.5026,\"RAD\":5.0,\"TAX\":398.0,\"PTRATIO\":18.7,\"B\":383.23,\"LSTAT\":8.94}]'"
      ]
     },
     "execution_count": 22,
     "metadata": {},
     "output_type": "execute_result"
    }
   ],
   "source": [
    "json_test"
   ]
  },
  {
   "cell_type": "markdown",
   "metadata": {},
   "source": [
    "    2. synthetic input (3 records) - JSON serialized text"
   ]
  },
  {
   "cell_type": "code",
   "execution_count": 23,
   "metadata": {
    "ExecuteTime": {
     "end_time": "2020-12-24T18:38:54.278358Z",
     "start_time": "2020-12-24T18:38:54.274415Z"
    }
   },
   "outputs": [
    {
     "data": {
      "text/plain": [
       "'[{\"CRIM\":2.37857,\"ZN\":25.0,\"INDUS\":9.9,\"CHAS\":0.0,\"NOX\":0.547,\"RM\":6.421,\"AGE\":85.7,\"DIS\":1.5184,\"RAD\":5.0,\"TAX\":666.0,\"PTRATIO\":17.9,\"B\":391.43,\"LSTAT\":24.1},{\"CRIM\":16.8118,\"ZN\":0.0,\"INDUS\":2.89,\"CHAS\":0.0,\"NOX\":0.504,\"RM\":6.012,\"AGE\":53.6,\"DIS\":1.7523,\"RAD\":4.0,\"TAX\":289.0,\"PTRATIO\":16.0,\"B\":393.74,\"LSTAT\":4.84},{\"CRIM\":10.8342,\"ZN\":20.0,\"INDUS\":18.1,\"CHAS\":0.0,\"NOX\":0.671,\"RM\":4.652,\"AGE\":58.7,\"DIS\":1.7984,\"RAD\":24.0,\"TAX\":284.0,\"PTRATIO\":19.1,\"B\":349.48,\"LSTAT\":22.88}]'"
      ]
     },
     "execution_count": 23,
     "metadata": {},
     "output_type": "execute_result"
    }
   ],
   "source": [
    "json_synthetic"
   ]
  },
  {
   "cell_type": "markdown",
   "metadata": {},
   "source": [
    "**predicting**"
   ]
  },
  {
   "cell_type": "code",
   "execution_count": 24,
   "metadata": {
    "ExecuteTime": {
     "end_time": "2020-12-24T18:38:54.309248Z",
     "start_time": "2020-12-24T18:38:54.279418Z"
    }
   },
   "outputs": [],
   "source": [
    "url = 'http://localhost:5000/predict_json'\n",
    "y_pred = requests.post(url=url, json=json_test)\n",
    "synthetic_y_pred = requests.post(url=url, json=json_synthetic)"
   ]
  },
  {
   "cell_type": "markdown",
   "metadata": {},
   "source": [
    "**printing prediction output**\n",
    "\n",
    "    1. test set prediction"
   ]
  },
  {
   "cell_type": "code",
   "execution_count": 25,
   "metadata": {
    "ExecuteTime": {
     "end_time": "2020-12-24T18:38:54.313529Z",
     "start_time": "2020-12-24T18:38:54.310427Z"
    }
   },
   "outputs": [
    {
     "data": {
      "text/plain": [
       "'{\"predictions\": [22.839000000000002, 30.67599999999999, 16.317, 23.51, 16.819000000000006, 21.373999999999995, 19.358, 15.619999999999987, 21.09100000000001, 21.07300000000001, 20.046999999999997, 19.297000000000004, 8.610999999999992, 21.397999999999996, 19.378000000000004, 25.452999999999992, 19.187, 8.537999999999998, 46.13200000000003, 14.535999999999987, 24.728, 23.996000000000002, 14.508999999999991, 23.846999999999998, 14.363000000000001, 14.796, 21.125999999999998, 13.663, 19.534999999999997, 21.290000000000006, 19.448999999999998, 23.392999999999983, 29.300000000000008, 20.337999999999994, 14.595999999999993, 15.593999999999989, 33.834999999999994, 19.122999999999998, 20.91500000000001, 24.375999999999998, 19.28599999999999, 29.61, 46.10800000000002, 19.427999999999997, 22.652999999999988, 13.675999999999995, 15.034999999999993, 24.32099999999999, 18.689, 28.820999999999984, 21.107000000000014, 33.81099999999998, 16.501999999999995, 25.778999999999996, 44.922000000000004, 21.982, 15.416000000000002, 32.032000000000004, 22.596000000000004, 20.296, 25.610999999999994, 33.91600000000001, 28.134000000000004, 18.551000000000002, 26.744999999999987, 17.567999999999994, 13.991999999999988, 23.195000000000007, 29.021999999999984, 15.663, 21.073999999999998, 27.425999999999995, 10.059999999999995, 21.569000000000006, 21.952, 7.084000000000003, 19.905, 46.15400000000003, 11.273999999999996, 12.981000000000002, 21.288000000000007, 12.561999999999994, 19.561000000000007, 9.391999999999996, 20.759999999999994, 27.282999999999994, 15.382999999999997, 23.39899999999999, 23.627999999999993, 17.617000000000004, 21.68, 8.019, 19.61600000000001, 18.713999999999995, 22.591999999999995, 19.786, 41.733000000000004, 12.789999999999996, 12.726000000000013, 13.118999999999996, 20.603000000000005, 23.902]}'"
      ]
     },
     "execution_count": 25,
     "metadata": {},
     "output_type": "execute_result"
    }
   ],
   "source": [
    "y_pred.text"
   ]
  },
  {
   "cell_type": "markdown",
   "metadata": {},
   "source": [
    "    2. synthetic set prediction"
   ]
  },
  {
   "cell_type": "code",
   "execution_count": 26,
   "metadata": {
    "ExecuteTime": {
     "end_time": "2020-12-24T18:38:54.318838Z",
     "start_time": "2020-12-24T18:38:54.314675Z"
    }
   },
   "outputs": [
    {
     "data": {
      "text/plain": [
       "'{\"predictions\": [15.446999999999996, 25.657999999999987, 12.889]}'"
      ]
     },
     "execution_count": 26,
     "metadata": {},
     "output_type": "execute_result"
    }
   ],
   "source": [
    "synthetic_y_pred.text"
   ]
  },
  {
   "cell_type": "markdown",
   "metadata": {},
   "source": [
    "**a bit of parsing**"
   ]
  },
  {
   "cell_type": "code",
   "execution_count": 27,
   "metadata": {
    "ExecuteTime": {
     "end_time": "2020-12-24T18:38:54.325775Z",
     "start_time": "2020-12-24T18:38:54.320059Z"
    }
   },
   "outputs": [],
   "source": [
    "y_pred = json.loads(y_pred.text)[PREDICTION_KEY]\n",
    "synthetic_y_pred = json.loads(synthetic_y_pred.text)[PREDICTION_KEY]"
   ]
  },
  {
   "cell_type": "markdown",
   "metadata": {},
   "source": [
    "**sanity check**"
   ]
  },
  {
   "cell_type": "code",
   "execution_count": 28,
   "metadata": {
    "ExecuteTime": {
     "end_time": "2020-12-24T18:38:54.346527Z",
     "start_time": "2020-12-24T18:38:54.326848Z"
    }
   },
   "outputs": [
    {
     "name": "stdout",
     "output_type": "stream",
     "text": [
      "using seriliezed test set with pickled model (also serilized) on an inference server\n",
      " with a JSON input gives the same predictions?\n",
      "True\n",
      "using seriliezed synthetic set with pickled model(also serilized) on an inference server\n",
      " with a JSON input gives the same predictions?\n",
      "True\n"
     ]
    }
   ],
   "source": [
    "print('using serialized test set with pickled model (also serialized) '\n",
    "      'on an inference server\\n with a JSON input gives '\n",
    "      'the same predictions?\\n{}'.\n",
    "      format(np.all(loaded_forest.predict(X_test).tolist() == y_pred)))\n",
    "\n",
    "print('using serialized synthetic set with pickled model(also serialized) '\n",
    "      'on an inference server\\n with a JSON input gives the same '\n",
    "      'predictions?\\n{}'.\n",
    "      format(np.all(loaded_forest.predict(synthetic_x).tolist() == synthetic_y_pred)))"
   ]
  },
  {
   "cell_type": "markdown",
   "metadata": {},
   "source": [
    "## 6. Submit a zip file with:\n",
    "1. This notebook\n",
    "2. Your Python inference server file"
   ]
  }
 ],
 "metadata": {
  "kernelspec": {
   "display_name": "Python 3",
   "language": "python",
   "name": "python3"
  },
  "language_info": {
   "codemirror_mode": {
    "name": "ipython",
    "version": 3
   },
   "file_extension": ".py",
   "mimetype": "text/x-python",
   "name": "python",
   "nbconvert_exporter": "python",
   "pygments_lexer": "ipython3",
   "version": "3.8.2"
  },
  "latex_envs": {
   "LaTeX_envs_menu_present": true,
   "autoclose": false,
   "autocomplete": true,
   "bibliofile": "biblio.bib",
   "cite_by": "apalike",
   "current_citInitial": 1,
   "eqLabelWithNumbers": true,
   "eqNumInitial": 1,
   "hotkeys": {
    "equation": "Ctrl-E",
    "itemize": "Ctrl-I"
   },
   "labels_anchors": false,
   "latex_user_defs": false,
   "report_style_numbering": false,
   "user_envs_cfg": false
  },
  "toc": {
   "base_numbering": 1,
   "nav_menu": {},
   "number_sections": true,
   "sideBar": true,
   "skip_h1_title": false,
   "title_cell": "Table of Contents",
   "title_sidebar": "Contents",
   "toc_cell": false,
   "toc_position": {},
   "toc_section_display": true,
   "toc_window_display": false
  }
 },
 "nbformat": 4,
 "nbformat_minor": 2
}
